{
 "cells": [
  {
   "cell_type": "code",
   "execution_count": 1,
   "metadata": {},
   "outputs": [],
   "source": [
    "import pandas as pd\n",
    "import numpy as np\n",
    "import matplotlib.pyplot as plt\n",
    "\n",
    "from sklearn.metrics import mean_squared_error\n",
    "from statsmodels.tsa.arima.model import ARIMA"
   ]
  },
  {
   "cell_type": "markdown",
   "metadata": {},
   "source": [
    "### 1.1. Load the Data"
   ]
  },
  {
   "cell_type": "code",
   "execution_count": null,
   "metadata": {},
   "outputs": [],
   "source": [
    "df_parquet=pd.read_parquet('/data/file.parquet')"
   ]
  },
  {
   "cell_type": "markdown",
   "metadata": {},
   "source": [
    "### 2.1. ARIMA"
   ]
  },
  {
   "cell_type": "code",
   "execution_count": null,
   "metadata": {},
   "outputs": [],
   "source": [
    "# Monthly aggregation and \"no disaster\" feature\n",
    "monthly_disasters = subset_df.resample('M').size()\n",
    "monthly_disasters_df = monthly_disasters.to_frame(name='disaster_count')\n",
    "monthly_disasters_df['no_disaster'] = monthly_disasters_df['disaster_count'].apply(lambda x: 1 if x == 0 else 0)\n",
    "\n",
    "monthly_disasters_df.head()"
   ]
  },
  {
   "cell_type": "code",
   "execution_count": null,
   "metadata": {},
   "outputs": [],
   "source": [
    "# Train-test split\n",
    "split_date = '2019-01-01'\n",
    "train = monthly_disasters_df[:split_date]['disaster_count']\n",
    "test = monthly_disasters_df[split_date:]['disaster_count']"
   ]
  },
  {
   "cell_type": "code",
   "execution_count": null,
   "metadata": {},
   "outputs": [],
   "source": [
    "# ARIMA model\n",
    "model = ARIMA(train, order=(1, 1, 1))\n",
    "model_fit = model.fit()\n",
    "forecast = model_fit.forecast(steps=len(test))\n",
    "\n",
    "# Plot results\n",
    "plt.figure(figsize=(12, 6))\n",
    "plt.plot(train.index, train, label='Training Data')\n",
    "plt.plot(test.index, test, label='Testing Data')\n",
    "plt.plot(test.index, forecast, label='Forecast', linestyle='--')\n",
    "plt.title('Monthly Disaster Count Forecast')\n",
    "plt.xlabel('Date')\n",
    "plt.ylabel('Number of Disasters')\n",
    "plt.legend()\n",
    "plt.grid()\n",
    "plt.show()\n",
    "\n",
    "# Evaluate model\n",
    "rmse = np.sqrt(mean_squared_error(test, forecast))\n",
    "print(f\"Root Mean Squared Error: {rmse}\")"
   ]
  }
 ],
 "metadata": {
  "kernelspec": {
   "display_name": "Python 3",
   "language": "python",
   "name": "python3"
  },
  "language_info": {
   "codemirror_mode": {
    "name": "ipython",
    "version": 3
   },
   "file_extension": ".py",
   "mimetype": "text/x-python",
   "name": "python",
   "nbconvert_exporter": "python",
   "pygments_lexer": "ipython3",
   "version": "3.10.12"
  }
 },
 "nbformat": 4,
 "nbformat_minor": 2
}
