{
 "cells": [
  {
   "cell_type": "markdown",
   "metadata": {},
   "source": [
    "# Binary classification models"
   ]
  },
  {
   "cell_type": "code",
   "execution_count": 1,
   "metadata": {},
   "outputs": [
    {
     "name": "stderr",
     "output_type": "stream",
     "text": [
      "2025-01-15 17:04:38.143255: I tensorflow/core/platform/cpu_feature_guard.cc:210] This TensorFlow binary is optimized to use available CPU instructions in performance-critical operations.\n",
      "To enable the following instructions: AVX2 FMA, in other operations, rebuild TensorFlow with the appropriate compiler flags.\n"
     ]
    }
   ],
   "source": [
    "# Standard library imports\n",
    "from typing import Tuple\n",
    "\n",
    "# PyPI imports\n",
    "import numpy as np\n",
    "import pandas as pd\n",
    "import matplotlib.pyplot as plt\n",
    "import seaborn as sns\n",
    "from sklearn.model_selection import train_test_split\n",
    "from sklearn.preprocessing import StandardScaler\n",
    "from sklearn.linear_model import LogisticRegression\n",
    "from sklearn.metrics import confusion_matrix, ConfusionMatrixDisplay\n",
    "from tensorflow import keras\n",
    "from tensorflow.keras import layers\n",
    "from tensorflow.keras.models import Sequential\n",
    "\n",
    "# Input data\n",
    "data_file='../data/resampled_disaster_data_all.parquet'"
   ]
  },
  {
   "cell_type": "markdown",
   "metadata": {},
   "source": [
    "## 1. Data loading"
   ]
  },
  {
   "cell_type": "code",
   "execution_count": 2,
   "metadata": {},
   "outputs": [
    {
     "data": {
      "text/html": [
       "<div>\n",
       "<style scoped>\n",
       "    .dataframe tbody tr th:only-of-type {\n",
       "        vertical-align: middle;\n",
       "    }\n",
       "\n",
       "    .dataframe tbody tr th {\n",
       "        vertical-align: top;\n",
       "    }\n",
       "\n",
       "    .dataframe thead th {\n",
       "        text-align: right;\n",
       "    }\n",
       "</style>\n",
       "<table border=\"1\" class=\"dataframe\">\n",
       "  <thead>\n",
       "    <tr style=\"text-align: right;\">\n",
       "      <th></th>\n",
       "      <th>state</th>\n",
       "      <th>Coastal Storm</th>\n",
       "      <th>Fire</th>\n",
       "      <th>Flood</th>\n",
       "      <th>Hurricane</th>\n",
       "      <th>Severe Storm</th>\n",
       "      <th>Tornado</th>\n",
       "      <th>Typhoon</th>\n",
       "      <th>Winter weather</th>\n",
       "      <th>No incident</th>\n",
       "      <th>year</th>\n",
       "      <th>month</th>\n",
       "    </tr>\n",
       "  </thead>\n",
       "  <tbody>\n",
       "    <tr>\n",
       "      <th>0</th>\n",
       "      <td>AK</td>\n",
       "      <td>0</td>\n",
       "      <td>0</td>\n",
       "      <td>0</td>\n",
       "      <td>0</td>\n",
       "      <td>0</td>\n",
       "      <td>0</td>\n",
       "      <td>0</td>\n",
       "      <td>0</td>\n",
       "      <td>1</td>\n",
       "      <td>1953</td>\n",
       "      <td>10</td>\n",
       "    </tr>\n",
       "    <tr>\n",
       "      <th>1</th>\n",
       "      <td>AK</td>\n",
       "      <td>0</td>\n",
       "      <td>0</td>\n",
       "      <td>0</td>\n",
       "      <td>0</td>\n",
       "      <td>0</td>\n",
       "      <td>0</td>\n",
       "      <td>0</td>\n",
       "      <td>0</td>\n",
       "      <td>1</td>\n",
       "      <td>1953</td>\n",
       "      <td>11</td>\n",
       "    </tr>\n",
       "    <tr>\n",
       "      <th>2</th>\n",
       "      <td>AK</td>\n",
       "      <td>0</td>\n",
       "      <td>0</td>\n",
       "      <td>0</td>\n",
       "      <td>0</td>\n",
       "      <td>0</td>\n",
       "      <td>0</td>\n",
       "      <td>0</td>\n",
       "      <td>0</td>\n",
       "      <td>1</td>\n",
       "      <td>1953</td>\n",
       "      <td>12</td>\n",
       "    </tr>\n",
       "    <tr>\n",
       "      <th>3</th>\n",
       "      <td>AK</td>\n",
       "      <td>0</td>\n",
       "      <td>0</td>\n",
       "      <td>0</td>\n",
       "      <td>0</td>\n",
       "      <td>0</td>\n",
       "      <td>0</td>\n",
       "      <td>0</td>\n",
       "      <td>0</td>\n",
       "      <td>1</td>\n",
       "      <td>1954</td>\n",
       "      <td>1</td>\n",
       "    </tr>\n",
       "    <tr>\n",
       "      <th>4</th>\n",
       "      <td>AK</td>\n",
       "      <td>0</td>\n",
       "      <td>0</td>\n",
       "      <td>0</td>\n",
       "      <td>0</td>\n",
       "      <td>0</td>\n",
       "      <td>0</td>\n",
       "      <td>0</td>\n",
       "      <td>0</td>\n",
       "      <td>1</td>\n",
       "      <td>1954</td>\n",
       "      <td>2</td>\n",
       "    </tr>\n",
       "  </tbody>\n",
       "</table>\n",
       "</div>"
      ],
      "text/plain": [
       "  state  Coastal Storm  Fire  Flood  Hurricane  Severe Storm  Tornado  \\\n",
       "0    AK              0     0      0          0             0        0   \n",
       "1    AK              0     0      0          0             0        0   \n",
       "2    AK              0     0      0          0             0        0   \n",
       "3    AK              0     0      0          0             0        0   \n",
       "4    AK              0     0      0          0             0        0   \n",
       "\n",
       "   Typhoon  Winter weather  No incident  year  month  \n",
       "0        0               0            1  1953     10  \n",
       "1        0               0            1  1953     11  \n",
       "2        0               0            1  1953     12  \n",
       "3        0               0            1  1954      1  \n",
       "4        0               0            1  1954      2  "
      ]
     },
     "execution_count": 2,
     "metadata": {},
     "output_type": "execute_result"
    }
   ],
   "source": [
    "data_df=pd.read_parquet(data_file)\n",
    "data_df.head()"
   ]
  },
  {
   "cell_type": "code",
   "execution_count": 3,
   "metadata": {},
   "outputs": [
    {
     "name": "stdout",
     "output_type": "stream",
     "text": [
      "<class 'pandas.core.frame.DataFrame'>\n",
      "RangeIndex: 43639 entries, 0 to 43638\n",
      "Data columns (total 12 columns):\n",
      " #   Column          Non-Null Count  Dtype \n",
      "---  ------          --------------  ----- \n",
      " 0   state           43639 non-null  object\n",
      " 1   Coastal Storm   43639 non-null  int64 \n",
      " 2   Fire            43639 non-null  int64 \n",
      " 3   Flood           43639 non-null  int64 \n",
      " 4   Hurricane       43639 non-null  int64 \n",
      " 5   Severe Storm    43639 non-null  int64 \n",
      " 6   Tornado         43639 non-null  int64 \n",
      " 7   Typhoon         43639 non-null  int64 \n",
      " 8   Winter weather  43639 non-null  int64 \n",
      " 9   No incident     43639 non-null  int64 \n",
      " 10  year            43639 non-null  int64 \n",
      " 11  month           43639 non-null  int64 \n",
      "dtypes: int64(11), object(1)\n",
      "memory usage: 4.0+ MB\n"
     ]
    }
   ],
   "source": [
    "data_df.info()"
   ]
  },
  {
   "cell_type": "code",
   "execution_count": 4,
   "metadata": {},
   "outputs": [
    {
     "name": "stdout",
     "output_type": "stream",
     "text": [
      "Severe storms: 982\n",
      "Hurricanes: 319\n",
      "Floods: 839\n"
     ]
    }
   ],
   "source": [
    "print(f\"Severe storms: {data_df['Severe Storm'].sum()}\")\n",
    "print(f\"Hurricanes: {data_df['Hurricane'].sum()}\")\n",
    "print(f\"Floods: {data_df['Flood'].sum()}\")"
   ]
  },
  {
   "cell_type": "markdown",
   "metadata": {},
   "source": [
    "## 2. Data preparation\n",
    "\n",
    "### 2.1. Create multiindex"
   ]
  },
  {
   "cell_type": "code",
   "execution_count": 5,
   "metadata": {},
   "outputs": [
    {
     "data": {
      "text/html": [
       "<div>\n",
       "<style scoped>\n",
       "    .dataframe tbody tr th:only-of-type {\n",
       "        vertical-align: middle;\n",
       "    }\n",
       "\n",
       "    .dataframe tbody tr th {\n",
       "        vertical-align: top;\n",
       "    }\n",
       "\n",
       "    .dataframe thead th {\n",
       "        text-align: right;\n",
       "    }\n",
       "</style>\n",
       "<table border=\"1\" class=\"dataframe\">\n",
       "  <thead>\n",
       "    <tr style=\"text-align: right;\">\n",
       "      <th></th>\n",
       "      <th></th>\n",
       "      <th></th>\n",
       "      <th>state</th>\n",
       "      <th>Coastal Storm</th>\n",
       "      <th>Fire</th>\n",
       "      <th>Flood</th>\n",
       "      <th>Hurricane</th>\n",
       "      <th>Severe Storm</th>\n",
       "      <th>Tornado</th>\n",
       "      <th>Typhoon</th>\n",
       "      <th>Winter weather</th>\n",
       "      <th>No incident</th>\n",
       "      <th>year</th>\n",
       "      <th>month</th>\n",
       "    </tr>\n",
       "    <tr>\n",
       "      <th>Year</th>\n",
       "      <th>State</th>\n",
       "      <th>Month</th>\n",
       "      <th></th>\n",
       "      <th></th>\n",
       "      <th></th>\n",
       "      <th></th>\n",
       "      <th></th>\n",
       "      <th></th>\n",
       "      <th></th>\n",
       "      <th></th>\n",
       "      <th></th>\n",
       "      <th></th>\n",
       "      <th></th>\n",
       "      <th></th>\n",
       "    </tr>\n",
       "  </thead>\n",
       "  <tbody>\n",
       "    <tr>\n",
       "      <th rowspan=\"3\" valign=\"top\">1953</th>\n",
       "      <th rowspan=\"3\" valign=\"top\">AK</th>\n",
       "      <th>10</th>\n",
       "      <td>AK</td>\n",
       "      <td>0</td>\n",
       "      <td>0</td>\n",
       "      <td>0</td>\n",
       "      <td>0</td>\n",
       "      <td>0</td>\n",
       "      <td>0</td>\n",
       "      <td>0</td>\n",
       "      <td>0</td>\n",
       "      <td>1</td>\n",
       "      <td>1953</td>\n",
       "      <td>10</td>\n",
       "    </tr>\n",
       "    <tr>\n",
       "      <th>11</th>\n",
       "      <td>AK</td>\n",
       "      <td>0</td>\n",
       "      <td>0</td>\n",
       "      <td>0</td>\n",
       "      <td>0</td>\n",
       "      <td>0</td>\n",
       "      <td>0</td>\n",
       "      <td>0</td>\n",
       "      <td>0</td>\n",
       "      <td>1</td>\n",
       "      <td>1953</td>\n",
       "      <td>11</td>\n",
       "    </tr>\n",
       "    <tr>\n",
       "      <th>12</th>\n",
       "      <td>AK</td>\n",
       "      <td>0</td>\n",
       "      <td>0</td>\n",
       "      <td>0</td>\n",
       "      <td>0</td>\n",
       "      <td>0</td>\n",
       "      <td>0</td>\n",
       "      <td>0</td>\n",
       "      <td>0</td>\n",
       "      <td>1</td>\n",
       "      <td>1953</td>\n",
       "      <td>12</td>\n",
       "    </tr>\n",
       "    <tr>\n",
       "      <th rowspan=\"2\" valign=\"top\">1954</th>\n",
       "      <th rowspan=\"2\" valign=\"top\">AK</th>\n",
       "      <th>1</th>\n",
       "      <td>AK</td>\n",
       "      <td>0</td>\n",
       "      <td>0</td>\n",
       "      <td>0</td>\n",
       "      <td>0</td>\n",
       "      <td>0</td>\n",
       "      <td>0</td>\n",
       "      <td>0</td>\n",
       "      <td>0</td>\n",
       "      <td>1</td>\n",
       "      <td>1954</td>\n",
       "      <td>1</td>\n",
       "    </tr>\n",
       "    <tr>\n",
       "      <th>2</th>\n",
       "      <td>AK</td>\n",
       "      <td>0</td>\n",
       "      <td>0</td>\n",
       "      <td>0</td>\n",
       "      <td>0</td>\n",
       "      <td>0</td>\n",
       "      <td>0</td>\n",
       "      <td>0</td>\n",
       "      <td>0</td>\n",
       "      <td>1</td>\n",
       "      <td>1954</td>\n",
       "      <td>2</td>\n",
       "    </tr>\n",
       "  </tbody>\n",
       "</table>\n",
       "</div>"
      ],
      "text/plain": [
       "                 state  Coastal Storm  Fire  Flood  Hurricane  Severe Storm  \\\n",
       "Year State Month                                                              \n",
       "1953 AK    10       AK              0     0      0          0             0   \n",
       "           11       AK              0     0      0          0             0   \n",
       "           12       AK              0     0      0          0             0   \n",
       "1954 AK    1        AK              0     0      0          0             0   \n",
       "           2        AK              0     0      0          0             0   \n",
       "\n",
       "                  Tornado  Typhoon  Winter weather  No incident  year  month  \n",
       "Year State Month                                                              \n",
       "1953 AK    10           0        0               0            1  1953     10  \n",
       "           11           0        0               0            1  1953     11  \n",
       "           12           0        0               0            1  1953     12  \n",
       "1954 AK    1            0        0               0            1  1954      1  \n",
       "           2            0        0               0            1  1954      2  "
      ]
     },
     "execution_count": 5,
     "metadata": {},
     "output_type": "execute_result"
    }
   ],
   "source": [
    "indexes=[\n",
    "    data_df['year'].tolist(),\n",
    "    data_df['state'].tolist(),\n",
    "    data_df['month'].tolist()\n",
    "]\n",
    "\n",
    "index_tuples=list(zip(*indexes))\n",
    "index=pd.MultiIndex.from_tuples(index_tuples, names=['Year', 'State', 'Month'])\n",
    "data_df.set_index(index, inplace=True)\n",
    "data_df.head()"
   ]
  },
  {
   "cell_type": "markdown",
   "metadata": {},
   "source": [
    "### 2.2. Cyclical month encoding"
   ]
  },
  {
   "cell_type": "code",
   "execution_count": 6,
   "metadata": {},
   "outputs": [],
   "source": [
    "# # Don't worry about downcasting FutureWarning\n",
    "# pd.set_option('future.no_silent_downcasting', True)\n",
    "\n",
    "# Define a helper function here so we can encode the time\n",
    "# features the same way on the training and testing data\n",
    "# without copy-pasting the same code\n",
    "def encode_month(data_df: pd.DataFrame) -> pd.DataFrame:\n",
    "    '''Takes a Pandas dataframe and uses cyclical sin/cos to encode\n",
    "    month feature. Returns updated dataframe.'''\n",
    "\n",
    "    data_df['month_sin'] = np.sin(2 * np.pi * data_df['month']/12.0)\n",
    "    data_df['month_cos'] = np.cos(2 * np.pi * data_df['month']/12.0)\n",
    "\n",
    "    # Drop the original string features\n",
    "    data_df.drop(['month'], axis=1, inplace=True)\n",
    "\n",
    "    return data_df"
   ]
  },
  {
   "cell_type": "code",
   "execution_count": 7,
   "metadata": {},
   "outputs": [
    {
     "data": {
      "text/html": [
       "<div>\n",
       "<style scoped>\n",
       "    .dataframe tbody tr th:only-of-type {\n",
       "        vertical-align: middle;\n",
       "    }\n",
       "\n",
       "    .dataframe tbody tr th {\n",
       "        vertical-align: top;\n",
       "    }\n",
       "\n",
       "    .dataframe thead th {\n",
       "        text-align: right;\n",
       "    }\n",
       "</style>\n",
       "<table border=\"1\" class=\"dataframe\">\n",
       "  <thead>\n",
       "    <tr style=\"text-align: right;\">\n",
       "      <th></th>\n",
       "      <th></th>\n",
       "      <th></th>\n",
       "      <th>state</th>\n",
       "      <th>Coastal Storm</th>\n",
       "      <th>Fire</th>\n",
       "      <th>Flood</th>\n",
       "      <th>Hurricane</th>\n",
       "      <th>Severe Storm</th>\n",
       "      <th>Tornado</th>\n",
       "      <th>Typhoon</th>\n",
       "      <th>Winter weather</th>\n",
       "      <th>No incident</th>\n",
       "      <th>year</th>\n",
       "      <th>month_sin</th>\n",
       "      <th>month_cos</th>\n",
       "    </tr>\n",
       "    <tr>\n",
       "      <th>Year</th>\n",
       "      <th>State</th>\n",
       "      <th>Month</th>\n",
       "      <th></th>\n",
       "      <th></th>\n",
       "      <th></th>\n",
       "      <th></th>\n",
       "      <th></th>\n",
       "      <th></th>\n",
       "      <th></th>\n",
       "      <th></th>\n",
       "      <th></th>\n",
       "      <th></th>\n",
       "      <th></th>\n",
       "      <th></th>\n",
       "      <th></th>\n",
       "    </tr>\n",
       "  </thead>\n",
       "  <tbody>\n",
       "    <tr>\n",
       "      <th rowspan=\"3\" valign=\"top\">1953</th>\n",
       "      <th rowspan=\"3\" valign=\"top\">AK</th>\n",
       "      <th>10</th>\n",
       "      <td>AK</td>\n",
       "      <td>0</td>\n",
       "      <td>0</td>\n",
       "      <td>0</td>\n",
       "      <td>0</td>\n",
       "      <td>0</td>\n",
       "      <td>0</td>\n",
       "      <td>0</td>\n",
       "      <td>0</td>\n",
       "      <td>1</td>\n",
       "      <td>1953</td>\n",
       "      <td>-8.660254e-01</td>\n",
       "      <td>0.500000</td>\n",
       "    </tr>\n",
       "    <tr>\n",
       "      <th>11</th>\n",
       "      <td>AK</td>\n",
       "      <td>0</td>\n",
       "      <td>0</td>\n",
       "      <td>0</td>\n",
       "      <td>0</td>\n",
       "      <td>0</td>\n",
       "      <td>0</td>\n",
       "      <td>0</td>\n",
       "      <td>0</td>\n",
       "      <td>1</td>\n",
       "      <td>1953</td>\n",
       "      <td>-5.000000e-01</td>\n",
       "      <td>0.866025</td>\n",
       "    </tr>\n",
       "    <tr>\n",
       "      <th>12</th>\n",
       "      <td>AK</td>\n",
       "      <td>0</td>\n",
       "      <td>0</td>\n",
       "      <td>0</td>\n",
       "      <td>0</td>\n",
       "      <td>0</td>\n",
       "      <td>0</td>\n",
       "      <td>0</td>\n",
       "      <td>0</td>\n",
       "      <td>1</td>\n",
       "      <td>1953</td>\n",
       "      <td>-2.449294e-16</td>\n",
       "      <td>1.000000</td>\n",
       "    </tr>\n",
       "    <tr>\n",
       "      <th rowspan=\"2\" valign=\"top\">1954</th>\n",
       "      <th rowspan=\"2\" valign=\"top\">AK</th>\n",
       "      <th>1</th>\n",
       "      <td>AK</td>\n",
       "      <td>0</td>\n",
       "      <td>0</td>\n",
       "      <td>0</td>\n",
       "      <td>0</td>\n",
       "      <td>0</td>\n",
       "      <td>0</td>\n",
       "      <td>0</td>\n",
       "      <td>0</td>\n",
       "      <td>1</td>\n",
       "      <td>1954</td>\n",
       "      <td>5.000000e-01</td>\n",
       "      <td>0.866025</td>\n",
       "    </tr>\n",
       "    <tr>\n",
       "      <th>2</th>\n",
       "      <td>AK</td>\n",
       "      <td>0</td>\n",
       "      <td>0</td>\n",
       "      <td>0</td>\n",
       "      <td>0</td>\n",
       "      <td>0</td>\n",
       "      <td>0</td>\n",
       "      <td>0</td>\n",
       "      <td>0</td>\n",
       "      <td>1</td>\n",
       "      <td>1954</td>\n",
       "      <td>8.660254e-01</td>\n",
       "      <td>0.500000</td>\n",
       "    </tr>\n",
       "  </tbody>\n",
       "</table>\n",
       "</div>"
      ],
      "text/plain": [
       "                 state  Coastal Storm  Fire  Flood  Hurricane  Severe Storm  \\\n",
       "Year State Month                                                              \n",
       "1953 AK    10       AK              0     0      0          0             0   \n",
       "           11       AK              0     0      0          0             0   \n",
       "           12       AK              0     0      0          0             0   \n",
       "1954 AK    1        AK              0     0      0          0             0   \n",
       "           2        AK              0     0      0          0             0   \n",
       "\n",
       "                  Tornado  Typhoon  Winter weather  No incident  year  \\\n",
       "Year State Month                                                        \n",
       "1953 AK    10           0        0               0            1  1953   \n",
       "           11           0        0               0            1  1953   \n",
       "           12           0        0               0            1  1953   \n",
       "1954 AK    1            0        0               0            1  1954   \n",
       "           2            0        0               0            1  1954   \n",
       "\n",
       "                     month_sin  month_cos  \n",
       "Year State Month                           \n",
       "1953 AK    10    -8.660254e-01   0.500000  \n",
       "           11    -5.000000e-01   0.866025  \n",
       "           12    -2.449294e-16   1.000000  \n",
       "1954 AK    1      5.000000e-01   0.866025  \n",
       "           2      8.660254e-01   0.500000  "
      ]
     },
     "execution_count": 7,
     "metadata": {},
     "output_type": "execute_result"
    }
   ],
   "source": [
    "data_df=encode_month(data_df)\n",
    "data_df.head()"
   ]
  },
  {
   "cell_type": "markdown",
   "metadata": {},
   "source": [
    "### 2.2. Dummy encode state\n",
    "\n",
    "Can't decide if I want this one or not - for actual timeseries models, the state will never change in a batch. But for simple logistic regression, it might be useful to have it. Let's do it, we can always just drop the columns later if we decide we don't want it."
   ]
  },
  {
   "cell_type": "code",
   "execution_count": 8,
   "metadata": {},
   "outputs": [],
   "source": [
    "# states=pd.get_dummies(data_df['state'], dtype=int)\n",
    "# states.head()"
   ]
  },
  {
   "cell_type": "code",
   "execution_count": 9,
   "metadata": {},
   "outputs": [],
   "source": [
    "# # Combine the state dummies and the original dataframe and remove the 'state' column\n",
    "# data_df=pd.concat([data_df, states], axis=1)\n",
    "data_df.drop('state', axis=1, inplace=True)\n",
    "# data_df.head()"
   ]
  },
  {
   "cell_type": "markdown",
   "metadata": {},
   "source": [
    "### 2.3. Collapse incident types"
   ]
  },
  {
   "cell_type": "code",
   "execution_count": 10,
   "metadata": {},
   "outputs": [
    {
     "name": "stdout",
     "output_type": "stream",
     "text": [
      "Severe storms: 982\n",
      "Hurricanes: 319\n",
      "Floods: 839\n"
     ]
    }
   ],
   "source": [
    "print(f\"Severe storms: {data_df['Severe Storm'].sum()}\")\n",
    "print(f\"Hurricanes: {data_df['Hurricane'].sum()}\")\n",
    "print(f\"Floods: {data_df['Flood'].sum()}\")"
   ]
  },
  {
   "cell_type": "code",
   "execution_count": 11,
   "metadata": {},
   "outputs": [
    {
     "data": {
      "text/html": [
       "<div>\n",
       "<style scoped>\n",
       "    .dataframe tbody tr th:only-of-type {\n",
       "        vertical-align: middle;\n",
       "    }\n",
       "\n",
       "    .dataframe tbody tr th {\n",
       "        vertical-align: top;\n",
       "    }\n",
       "\n",
       "    .dataframe thead th {\n",
       "        text-align: right;\n",
       "    }\n",
       "</style>\n",
       "<table border=\"1\" class=\"dataframe\">\n",
       "  <thead>\n",
       "    <tr style=\"text-align: right;\">\n",
       "      <th></th>\n",
       "      <th></th>\n",
       "      <th></th>\n",
       "      <th>year</th>\n",
       "      <th>month_sin</th>\n",
       "      <th>month_cos</th>\n",
       "      <th>incident</th>\n",
       "    </tr>\n",
       "    <tr>\n",
       "      <th>Year</th>\n",
       "      <th>State</th>\n",
       "      <th>Month</th>\n",
       "      <th></th>\n",
       "      <th></th>\n",
       "      <th></th>\n",
       "      <th></th>\n",
       "    </tr>\n",
       "  </thead>\n",
       "  <tbody>\n",
       "    <tr>\n",
       "      <th rowspan=\"3\" valign=\"top\">1953</th>\n",
       "      <th rowspan=\"3\" valign=\"top\">AK</th>\n",
       "      <th>10</th>\n",
       "      <td>1953</td>\n",
       "      <td>-8.660254e-01</td>\n",
       "      <td>0.500000</td>\n",
       "      <td>0</td>\n",
       "    </tr>\n",
       "    <tr>\n",
       "      <th>11</th>\n",
       "      <td>1953</td>\n",
       "      <td>-5.000000e-01</td>\n",
       "      <td>0.866025</td>\n",
       "      <td>0</td>\n",
       "    </tr>\n",
       "    <tr>\n",
       "      <th>12</th>\n",
       "      <td>1953</td>\n",
       "      <td>-2.449294e-16</td>\n",
       "      <td>1.000000</td>\n",
       "      <td>0</td>\n",
       "    </tr>\n",
       "    <tr>\n",
       "      <th rowspan=\"2\" valign=\"top\">1954</th>\n",
       "      <th rowspan=\"2\" valign=\"top\">AK</th>\n",
       "      <th>1</th>\n",
       "      <td>1954</td>\n",
       "      <td>5.000000e-01</td>\n",
       "      <td>0.866025</td>\n",
       "      <td>0</td>\n",
       "    </tr>\n",
       "    <tr>\n",
       "      <th>2</th>\n",
       "      <td>1954</td>\n",
       "      <td>8.660254e-01</td>\n",
       "      <td>0.500000</td>\n",
       "      <td>0</td>\n",
       "    </tr>\n",
       "  </tbody>\n",
       "</table>\n",
       "</div>"
      ],
      "text/plain": [
       "                  year     month_sin  month_cos  incident\n",
       "Year State Month                                         \n",
       "1953 AK    10     1953 -8.660254e-01   0.500000         0\n",
       "           11     1953 -5.000000e-01   0.866025         0\n",
       "           12     1953 -2.449294e-16   1.000000         0\n",
       "1954 AK    1      1954  5.000000e-01   0.866025         0\n",
       "           2      1954  8.660254e-01   0.500000         0"
      ]
     },
     "execution_count": 11,
     "metadata": {},
     "output_type": "execute_result"
    }
   ],
   "source": [
    "# Sum our columns of interest and add the result as a new 'incident' feature\n",
    "incidents=data_df['Severe Storm']+data_df['Hurricane']+data_df['Flood']+data_df['Coastal Storm']\n",
    "data_df['incident']=incidents\n",
    "\n",
    "# Clip the new incident feature at 1\n",
    "data_df['incident']=data_df['incident'].clip(upper=1)\n",
    "\n",
    "# Drop the old individual incident columns\n",
    "data_df.drop(['Coastal Storm','Fire','Flood','Hurricane','Severe Storm','Tornado','Typhoon','Winter weather','No incident'], axis=1, inplace=True)\n",
    "data_df.head()"
   ]
  },
  {
   "cell_type": "code",
   "execution_count": 12,
   "metadata": {},
   "outputs": [
    {
     "data": {
      "text/html": [
       "<div>\n",
       "<style scoped>\n",
       "    .dataframe tbody tr th:only-of-type {\n",
       "        vertical-align: middle;\n",
       "    }\n",
       "\n",
       "    .dataframe tbody tr th {\n",
       "        vertical-align: top;\n",
       "    }\n",
       "\n",
       "    .dataframe thead th {\n",
       "        text-align: right;\n",
       "    }\n",
       "</style>\n",
       "<table border=\"1\" class=\"dataframe\">\n",
       "  <thead>\n",
       "    <tr style=\"text-align: right;\">\n",
       "      <th></th>\n",
       "      <th></th>\n",
       "      <th>year</th>\n",
       "      <th>month_sin</th>\n",
       "      <th>month_cos</th>\n",
       "      <th>incident</th>\n",
       "    </tr>\n",
       "    <tr>\n",
       "      <th>Year</th>\n",
       "      <th>Month</th>\n",
       "      <th></th>\n",
       "      <th></th>\n",
       "      <th></th>\n",
       "      <th></th>\n",
       "    </tr>\n",
       "  </thead>\n",
       "  <tbody>\n",
       "    <tr>\n",
       "      <th rowspan=\"3\" valign=\"top\">1953</th>\n",
       "      <th>10</th>\n",
       "      <td>1953</td>\n",
       "      <td>-8.660254e-01</td>\n",
       "      <td>5.000000e-01</td>\n",
       "      <td>0</td>\n",
       "    </tr>\n",
       "    <tr>\n",
       "      <th>11</th>\n",
       "      <td>1953</td>\n",
       "      <td>-5.000000e-01</td>\n",
       "      <td>8.660254e-01</td>\n",
       "      <td>0</td>\n",
       "    </tr>\n",
       "    <tr>\n",
       "      <th>12</th>\n",
       "      <td>1953</td>\n",
       "      <td>-2.449294e-16</td>\n",
       "      <td>1.000000e+00</td>\n",
       "      <td>0</td>\n",
       "    </tr>\n",
       "    <tr>\n",
       "      <th rowspan=\"2\" valign=\"top\">1954</th>\n",
       "      <th>1</th>\n",
       "      <td>1954</td>\n",
       "      <td>5.000000e-01</td>\n",
       "      <td>8.660254e-01</td>\n",
       "      <td>0</td>\n",
       "    </tr>\n",
       "    <tr>\n",
       "      <th>2</th>\n",
       "      <td>1954</td>\n",
       "      <td>8.660254e-01</td>\n",
       "      <td>5.000000e-01</td>\n",
       "      <td>0</td>\n",
       "    </tr>\n",
       "    <tr>\n",
       "      <th>...</th>\n",
       "      <th>...</th>\n",
       "      <td>...</td>\n",
       "      <td>...</td>\n",
       "      <td>...</td>\n",
       "      <td>...</td>\n",
       "    </tr>\n",
       "    <tr>\n",
       "      <th rowspan=\"5\" valign=\"top\">2022</th>\n",
       "      <th>5</th>\n",
       "      <td>2022</td>\n",
       "      <td>5.000000e-01</td>\n",
       "      <td>-8.660254e-01</td>\n",
       "      <td>1</td>\n",
       "    </tr>\n",
       "    <tr>\n",
       "      <th>6</th>\n",
       "      <td>2022</td>\n",
       "      <td>1.224647e-16</td>\n",
       "      <td>-1.000000e+00</td>\n",
       "      <td>0</td>\n",
       "    </tr>\n",
       "    <tr>\n",
       "      <th>7</th>\n",
       "      <td>2022</td>\n",
       "      <td>-5.000000e-01</td>\n",
       "      <td>-8.660254e-01</td>\n",
       "      <td>0</td>\n",
       "    </tr>\n",
       "    <tr>\n",
       "      <th>8</th>\n",
       "      <td>2022</td>\n",
       "      <td>-8.660254e-01</td>\n",
       "      <td>-5.000000e-01</td>\n",
       "      <td>0</td>\n",
       "    </tr>\n",
       "    <tr>\n",
       "      <th>9</th>\n",
       "      <td>2022</td>\n",
       "      <td>-1.000000e+00</td>\n",
       "      <td>-1.836970e-16</td>\n",
       "      <td>1</td>\n",
       "    </tr>\n",
       "  </tbody>\n",
       "</table>\n",
       "<p>828 rows × 4 columns</p>\n",
       "</div>"
      ],
      "text/plain": [
       "            year     month_sin     month_cos  incident\n",
       "Year Month                                            \n",
       "1953 10     1953 -8.660254e-01  5.000000e-01         0\n",
       "     11     1953 -5.000000e-01  8.660254e-01         0\n",
       "     12     1953 -2.449294e-16  1.000000e+00         0\n",
       "1954 1      1954  5.000000e-01  8.660254e-01         0\n",
       "     2      1954  8.660254e-01  5.000000e-01         0\n",
       "...          ...           ...           ...       ...\n",
       "2022 5      2022  5.000000e-01 -8.660254e-01         1\n",
       "     6      2022  1.224647e-16 -1.000000e+00         0\n",
       "     7      2022 -5.000000e-01 -8.660254e-01         0\n",
       "     8      2022 -8.660254e-01 -5.000000e-01         0\n",
       "     9      2022 -1.000000e+00 -1.836970e-16         1\n",
       "\n",
       "[828 rows x 4 columns]"
      ]
     },
     "execution_count": 12,
     "metadata": {},
     "output_type": "execute_result"
    }
   ],
   "source": [
    "data_df.loc[:,'AK',:]"
   ]
  },
  {
   "cell_type": "markdown",
   "metadata": {},
   "source": [
    "### 2.4. Batch data"
   ]
  },
  {
   "cell_type": "code",
   "execution_count": 13,
   "metadata": {},
   "outputs": [],
   "source": [
    "def generate_data(data_df: pd.DataFrame, input_window: int) -> Tuple[np.array, np.array]:\n",
    "    '''Takes dataframe, input window size, parses data into feature label pairs,\n",
    "    returns as tuple of numpy arrays'''\n",
    "\n",
    "    # Get list of states\n",
    "    states=data_df.index.get_level_values('State').unique().tolist()\n",
    "\n",
    "    features=[]\n",
    "    labels=[]\n",
    "\n",
    "    # Loop on states\n",
    "    for state in states:\n",
    "\n",
    "        # Extract the data for this state\n",
    "        state_df=data_df.loc[:,state,:]\n",
    "\n",
    "        # Indexing variable for batch\n",
    "        input_start_index=0\n",
    "\n",
    "        # Loop on the state data\n",
    "        while input_start_index + input_window + 1 < len(state_df):\n",
    "\n",
    "            # Extract and collect the features and labels\n",
    "            feature_row=state_df.iloc[input_start_index:input_start_index + input_window, :]\n",
    "            label_row=state_df.iloc[input_start_index + input_window, -1]\n",
    "            features.append(feature_row.values.tolist())\n",
    "            labels.append(label_row)\n",
    "\n",
    "            # Update the index\n",
    "            input_start_index+=1\n",
    "\n",
    "    # Convert to numpy arrays\n",
    "    features=np.array(features)\n",
    "    labels=np.array(labels)\n",
    "\n",
    "    # Squeeze out the extra dimension for window width of 1\n",
    "    if input_window == 1:\n",
    "        features=features.squeeze(axis=1)\n",
    "\n",
    "    return features, labels"
   ]
  },
  {
   "cell_type": "code",
   "execution_count": 14,
   "metadata": {},
   "outputs": [],
   "source": [
    "# Generate some feature, label pairs\n",
    "input_window=1\n",
    "features, labels=generate_data(data_df, input_window)"
   ]
  },
  {
   "cell_type": "markdown",
   "metadata": {},
   "source": [
    "### 2.5. Train-test split"
   ]
  },
  {
   "cell_type": "code",
   "execution_count": 15,
   "metadata": {},
   "outputs": [
    {
     "name": "stdout",
     "output_type": "stream",
     "text": [
      "Training features: (32641, 4)\n",
      "Training labels: (32641,), 4.8% positive class\n",
      "Testing features: (10881, 4)\n",
      "Testing labels: (10881,), 4.7% positive class\n"
     ]
    }
   ],
   "source": [
    "# Split them into training and validation\n",
    "training_features, testing_features, training_labels, testing_labels=train_test_split(features, labels)\n",
    "\n",
    "print(f'Training features: {training_features.shape}')\n",
    "print(f'Training labels: {training_labels.shape}, {(sum(training_labels)/len(training_labels))*100:.1f}% positive class')\n",
    "print(f'Testing features: {testing_features.shape}')\n",
    "print(f'Testing labels: {testing_labels.shape}, {(sum(testing_labels)/len(testing_labels))*100:.1f}% positive class')"
   ]
  },
  {
   "cell_type": "markdown",
   "metadata": {},
   "source": [
    "### 2.6. Standardize features"
   ]
  },
  {
   "cell_type": "code",
   "execution_count": 16,
   "metadata": {},
   "outputs": [],
   "source": [
    "# Scale the data\n",
    "scaler=StandardScaler()\n",
    "scaler.fit(training_features)\n",
    "training_features=scaler.transform(training_features)\n",
    "testing_features=scaler.transform(testing_features)"
   ]
  },
  {
   "cell_type": "markdown",
   "metadata": {},
   "source": [
    "## 3. Logistic regression model\n",
    "\n",
    "### 3.1. Fit the model on the training data"
   ]
  },
  {
   "cell_type": "code",
   "execution_count": 17,
   "metadata": {},
   "outputs": [],
   "source": [
    "model=LogisticRegression(class_weight='balanced', random_state=315).fit(training_features, training_labels)"
   ]
  },
  {
   "cell_type": "markdown",
   "metadata": {},
   "source": [
    "### 3.2. Evaluate the model on the test data"
   ]
  },
  {
   "cell_type": "code",
   "execution_count": 18,
   "metadata": {},
   "outputs": [
    {
     "data": {
      "image/png": "[encoded data removed]",
      "text/plain": [
       "<Figure size 640x480 with 2 Axes>"
      ]
     },
     "metadata": {},
     "output_type": "display_data"
    }
   ],
   "source": [
    "predictions=model.predict(testing_features)\n",
    "cm=confusion_matrix(testing_labels, predictions, normalize='all')\n",
    "cm_disp=ConfusionMatrixDisplay(confusion_matrix=cm, display_labels=['no incident', 'incident'])\n",
    "_=cm_disp.plot()"
   ]
  },
  {
   "cell_type": "markdown",
   "metadata": {},
   "source": [
    "OK, we have about 2% false negatives, which means we are missing some disasters, and almost 40% false positives - that's a lot of false alarms! Let's try a better model."
   ]
  },
  {
   "cell_type": "markdown",
   "metadata": {},
   "source": [
    "## 4. LSTM model\n",
    "\n",
    "### 4.1. Model definition function"
   ]
  },
  {
   "cell_type": "code",
   "execution_count": 19,
   "metadata": {},
   "outputs": [],
   "source": [
    "# Helper function to build model\n",
    "def build_lstm(training_features: np.array, learning_rate: float=0.0001) -> keras.models.Sequential:\n",
    "    '''Builds and compiles LSTM model'''\n",
    "\n",
    "    # Define and adapt a normalization layer.\n",
    "    norm_layer=keras.layers.Normalization()\n",
    "    norm_layer.adapt(training_features)\n",
    "\n",
    "    # Define the model\n",
    "    model=Sequential()\n",
    "    model.add(layers.Input((training_features.shape[1],training_features.shape[2])))\n",
    "    model.add(norm_layer)\n",
    "    model.add(layers.LSTM(256))\n",
    "    model.add(layers.Dropout(0.5))\n",
    "    model.add(layers.Dense(128, activation='relu'))\n",
    "    model.add(layers.Dense(64, activation='relu'))\n",
    "    model.add(layers.Dense(32, activation='relu'))\n",
    "    model.add(layers.Dense(1, activation='sigmoid'))\n",
    "\n",
    "    # Define the optimizer\n",
    "    optimizer=keras.optimizers.Adam(learning_rate=learning_rate)\n",
    "\n",
    "    # Compile the model, specifying the type of loss to use during training and any extra metrics to evaluate\n",
    "    model.compile(loss='binary_crossentropy', optimizer=optimizer, metrics=['true_positives', 'false_positives', 'false_negatives'])\n",
    "\n",
    "    return model"
   ]
  },
  {
   "cell_type": "markdown",
   "metadata": {},
   "source": [
    "### 4.2. Training function"
   ]
  },
  {
   "cell_type": "code",
   "execution_count": 20,
   "metadata": {},
   "outputs": [],
   "source": [
    "# Helper function to train model\n",
    "def train_lstm(\n",
    "        model: keras.models.Sequential,\n",
    "        training_features: np.array,\n",
    "        training_labels: np.array,\n",
    "        testing_features: np.array,\n",
    "        testing_labels: np.array,\n",
    "        epochs: int=10,\n",
    "        batch_size: int=64\n",
    "):\n",
    "    \n",
    "    '''Does one LSTM training run'''\n",
    "\n",
    "    # Class weighting scheme suggested in a Tensorflow tutorial   \n",
    "    pos_examples=training_labels.sum()\n",
    "    neg_examples=len(training_labels) - pos_examples\n",
    "    neg_class_weight=(1 / neg_examples) * (len(training_labels) / 2.0)\n",
    "    pos_class_weight=(1 / pos_examples) * (len(training_labels) / 2.0)\n",
    "    class_weight={0: neg_class_weight, 1: pos_class_weight}\n",
    "\n",
    "    # Train the model\n",
    "    result=model.fit(\n",
    "        training_features,\n",
    "        training_labels,\n",
    "        validation_data=(testing_features, testing_labels),\n",
    "        epochs=epochs,\n",
    "        batch_size=batch_size,\n",
    "        verbose=1,\n",
    "        class_weight=class_weight\n",
    "    )\n",
    "\n",
    "    return result, model"
   ]
  },
  {
   "cell_type": "markdown",
   "metadata": {},
   "source": [
    "### 4.3. Training curve plot function"
   ]
  },
  {
   "cell_type": "code",
   "execution_count": 21,
   "metadata": {},
   "outputs": [],
   "source": [
    "# Define a re-useable helper function that plots the results of a single training run\n",
    "def plot_single_training_run(training_results):\n",
    "    '''Takes a training results dictionary, plots it.'''\n",
    "\n",
    "    # Set-up a 2x2 figure for metrics\n",
    "    fig, axs=plt.subplots(2,2, figsize=(8,8))\n",
    "    axs=axs.flatten()\n",
    "\n",
    "    # Add the main title\n",
    "    fig.suptitle('LSTM training curves', size='large')\n",
    "\n",
    "    # Plot training and validation binary cross-entropy\n",
    "    axs[0].set_title('Binary cross-entropy')\n",
    "    axs[0].plot(training_results.history['loss'], label='Training')\n",
    "    axs[0].plot(training_results.history['val_loss'], label='Validation')\n",
    "    axs[0].set_xlabel('Epoch')\n",
    "    axs[0].set_ylabel('Binary cross-entropy')\n",
    "    axs[0].legend(loc='upper left')\n",
    "\n",
    "    # Plot training and validation true positives\n",
    "    axs[1].set_title('True positives')\n",
    "    axs[1].plot(training_results.history['true_positives'])\n",
    "    axs[1].plot(training_results.history['val_true_positives'])\n",
    "    axs[1].set_xlabel('Epoch')\n",
    "    axs[1].set_ylabel('True positives')\n",
    "\n",
    "    # Plot training and validation false negatives\n",
    "    axs[2].set_title('False negatives')\n",
    "    axs[2].plot(training_results.history['false_negatives'])\n",
    "    axs[2].plot(training_results.history['val_false_negatives'])\n",
    "    axs[2].set_xlabel('Epoch')\n",
    "    axs[2].set_ylabel('False negatives')\n",
    "\n",
    "    # Plot training and validation false positives\n",
    "    axs[3].set_title('False positives')\n",
    "    axs[3].plot(training_results.history['false_positives'])\n",
    "    axs[3].plot(training_results.history['val_false_positives'])\n",
    "    axs[3].set_xlabel('Epoch')\n",
    "    axs[3].set_ylabel('False positives')\n",
    "\n",
    "    # Show the plot\n",
    "    plt.tight_layout()\n",
    "\n",
    "    return plt"
   ]
  },
  {
   "cell_type": "markdown",
   "metadata": {},
   "source": [
    "### 4.4. Baseline LSTM training run"
   ]
  },
  {
   "cell_type": "code",
   "execution_count": 22,
   "metadata": {},
   "outputs": [
    {
     "name": "stdout",
     "output_type": "stream",
     "text": [
      "Training features: (32424, 6, 4)\n",
      "Training labels: (32424,), 4.7% positive class\n",
      "Testing features: (10808, 6, 4)\n",
      "Testing labels: (10808,), 5.1% positive class\n"
     ]
    },
    {
     "data": {
      "text/html": [
       "<pre style=\"white-space:pre;overflow-x:auto;line-height:normal;font-family:Menlo,'DejaVu Sans Mono',consolas,'Courier New',monospace\"><span style=\"font-weight: bold\">Model: \"sequential\"</span>\n",
       "</pre>\n"
      ],
      "text/plain": [
       "\u001b[1mModel: \"sequential\"\u001b[0m\n"
      ]
     },
     "metadata": {},
     "output_type": "display_data"
    },
    {
     "data": {
      "text/html": [
       "<pre style=\"white-space:pre;overflow-x:auto;line-height:normal;font-family:Menlo,'DejaVu Sans Mono',consolas,'Courier New',monospace\">┏━━━━━━━━━━━━━━━━━━━━━━━━━━━━━━━━━┳━━━━━━━━━━━━━━━━━━━━━━━━┳━━━━━━━━━━━━━━━┓\n",
       "┃<span style=\"font-weight: bold\"> Layer (type)                    </span>┃<span style=\"font-weight: bold\"> Output Shape           </span>┃<span style=\"font-weight: bold\">       Param # </span>┃\n",
       "┡━━━━━━━━━━━━━━━━━━━━━━━━━━━━━━━━━╇━━━━━━━━━━━━━━━━━━━━━━━━╇━━━━━━━━━━━━━━━┩\n",
       "│ normalization (<span style=\"color: #0087ff; text-decoration-color: #0087ff\">Normalization</span>)   │ (<span style=\"color: #00d7ff; text-decoration-color: #00d7ff\">None</span>, <span style=\"color: #00af00; text-decoration-color: #00af00\">6</span>, <span style=\"color: #00af00; text-decoration-color: #00af00\">4</span>)           │             <span style=\"color: #00af00; text-decoration-color: #00af00\">9</span> │\n",
       "├─────────────────────────────────┼────────────────────────┼───────────────┤\n",
       "│ lstm (<span style=\"color: #0087ff; text-decoration-color: #0087ff\">LSTM</span>)                     │ (<span style=\"color: #00d7ff; text-decoration-color: #00d7ff\">None</span>, <span style=\"color: #00af00; text-decoration-color: #00af00\">256</span>)            │       <span style=\"color: #00af00; text-decoration-color: #00af00\">267,264</span> │\n",
       "├─────────────────────────────────┼────────────────────────┼───────────────┤\n",
       "│ dropout (<span style=\"color: #0087ff; text-decoration-color: #0087ff\">Dropout</span>)               │ (<span style=\"color: #00d7ff; text-decoration-color: #00d7ff\">None</span>, <span style=\"color: #00af00; text-decoration-color: #00af00\">256</span>)            │             <span style=\"color: #00af00; text-decoration-color: #00af00\">0</span> │\n",
       "├─────────────────────────────────┼────────────────────────┼───────────────┤\n",
       "│ dense (<span style=\"color: #0087ff; text-decoration-color: #0087ff\">Dense</span>)                   │ (<span style=\"color: #00d7ff; text-decoration-color: #00d7ff\">None</span>, <span style=\"color: #00af00; text-decoration-color: #00af00\">128</span>)            │        <span style=\"color: #00af00; text-decoration-color: #00af00\">32,896</span> │\n",
       "├─────────────────────────────────┼────────────────────────┼───────────────┤\n",
       "│ dense_1 (<span style=\"color: #0087ff; text-decoration-color: #0087ff\">Dense</span>)                 │ (<span style=\"color: #00d7ff; text-decoration-color: #00d7ff\">None</span>, <span style=\"color: #00af00; text-decoration-color: #00af00\">64</span>)             │         <span style=\"color: #00af00; text-decoration-color: #00af00\">8,256</span> │\n",
       "├─────────────────────────────────┼────────────────────────┼───────────────┤\n",
       "│ dense_2 (<span style=\"color: #0087ff; text-decoration-color: #0087ff\">Dense</span>)                 │ (<span style=\"color: #00d7ff; text-decoration-color: #00d7ff\">None</span>, <span style=\"color: #00af00; text-decoration-color: #00af00\">32</span>)             │         <span style=\"color: #00af00; text-decoration-color: #00af00\">2,080</span> │\n",
       "├─────────────────────────────────┼────────────────────────┼───────────────┤\n",
       "│ dense_3 (<span style=\"color: #0087ff; text-decoration-color: #0087ff\">Dense</span>)                 │ (<span style=\"color: #00d7ff; text-decoration-color: #00d7ff\">None</span>, <span style=\"color: #00af00; text-decoration-color: #00af00\">1</span>)              │            <span style=\"color: #00af00; text-decoration-color: #00af00\">33</span> │\n",
       "└─────────────────────────────────┴────────────────────────┴───────────────┘\n",
       "</pre>\n"
      ],
      "text/plain": [
       "┏━━━━━━━━━━━━━━━━━━━━━━━━━━━━━━━━━┳━━━━━━━━━━━━━━━━━━━━━━━━┳━━━━━━━━━━━━━━━┓\n",
       "┃\u001b[1m \u001b[0m\u001b[1mLayer (type)                   \u001b[0m\u001b[1m \u001b[0m┃\u001b[1m \u001b[0m\u001b[1mOutput Shape          \u001b[0m\u001b[1m \u001b[0m┃\u001b[1m \u001b[0m\u001b[1m      Param #\u001b[0m\u001b[1m \u001b[0m┃\n",
       "┡━━━━━━━━━━━━━━━━━━━━━━━━━━━━━━━━━╇━━━━━━━━━━━━━━━━━━━━━━━━╇━━━━━━━━━━━━━━━┩\n",
       "│ normalization (\u001b[38;5;33mNormalization\u001b[0m)   │ (\u001b[38;5;45mNone\u001b[0m, \u001b[38;5;34m6\u001b[0m, \u001b[38;5;34m4\u001b[0m)           │             \u001b[38;5;34m9\u001b[0m │\n",
       "├─────────────────────────────────┼────────────────────────┼───────────────┤\n",
       "│ lstm (\u001b[38;5;33mLSTM\u001b[0m)                     │ (\u001b[38;5;45mNone\u001b[0m, \u001b[38;5;34m256\u001b[0m)            │       \u001b[38;5;34m267,264\u001b[0m │\n",
       "├─────────────────────────────────┼────────────────────────┼───────────────┤\n",
       "│ dropout (\u001b[38;5;33mDropout\u001b[0m)               │ (\u001b[38;5;45mNone\u001b[0m, \u001b[38;5;34m256\u001b[0m)            │             \u001b[38;5;34m0\u001b[0m │\n",
       "├─────────────────────────────────┼────────────────────────┼───────────────┤\n",
       "│ dense (\u001b[38;5;33mDense\u001b[0m)                   │ (\u001b[38;5;45mNone\u001b[0m, \u001b[38;5;34m128\u001b[0m)            │        \u001b[38;5;34m32,896\u001b[0m │\n",
       "├─────────────────────────────────┼────────────────────────┼───────────────┤\n",
       "│ dense_1 (\u001b[38;5;33mDense\u001b[0m)                 │ (\u001b[38;5;45mNone\u001b[0m, \u001b[38;5;34m64\u001b[0m)             │         \u001b[38;5;34m8,256\u001b[0m │\n",
       "├─────────────────────────────────┼────────────────────────┼───────────────┤\n",
       "│ dense_2 (\u001b[38;5;33mDense\u001b[0m)                 │ (\u001b[38;5;45mNone\u001b[0m, \u001b[38;5;34m32\u001b[0m)             │         \u001b[38;5;34m2,080\u001b[0m │\n",
       "├─────────────────────────────────┼────────────────────────┼───────────────┤\n",
       "│ dense_3 (\u001b[38;5;33mDense\u001b[0m)                 │ (\u001b[38;5;45mNone\u001b[0m, \u001b[38;5;34m1\u001b[0m)              │            \u001b[38;5;34m33\u001b[0m │\n",
       "└─────────────────────────────────┴────────────────────────┴───────────────┘\n"
      ]
     },
     "metadata": {},
     "output_type": "display_data"
    },
    {
     "data": {
      "text/html": [
       "<pre style=\"white-space:pre;overflow-x:auto;line-height:normal;font-family:Menlo,'DejaVu Sans Mono',consolas,'Courier New',monospace\"><span style=\"font-weight: bold\"> Total params: </span><span style=\"color: #00af00; text-decoration-color: #00af00\">310,538</span> (1.18 MB)\n",
       "</pre>\n"
      ],
      "text/plain": [
       "\u001b[1m Total params: \u001b[0m\u001b[38;5;34m310,538\u001b[0m (1.18 MB)\n"
      ]
     },
     "metadata": {},
     "output_type": "display_data"
    },
    {
     "data": {
      "text/html": [
       "<pre style=\"white-space:pre;overflow-x:auto;line-height:normal;font-family:Menlo,'DejaVu Sans Mono',consolas,'Courier New',monospace\"><span style=\"font-weight: bold\"> Trainable params: </span><span style=\"color: #00af00; text-decoration-color: #00af00\">310,529</span> (1.18 MB)\n",
       "</pre>\n"
      ],
      "text/plain": [
       "\u001b[1m Trainable params: \u001b[0m\u001b[38;5;34m310,529\u001b[0m (1.18 MB)\n"
      ]
     },
     "metadata": {},
     "output_type": "display_data"
    },
    {
     "data": {
      "text/html": [
       "<pre style=\"white-space:pre;overflow-x:auto;line-height:normal;font-family:Menlo,'DejaVu Sans Mono',consolas,'Courier New',monospace\"><span style=\"font-weight: bold\"> Non-trainable params: </span><span style=\"color: #00af00; text-decoration-color: #00af00\">9</span> (40.00 B)\n",
       "</pre>\n"
      ],
      "text/plain": [
       "\u001b[1m Non-trainable params: \u001b[0m\u001b[38;5;34m9\u001b[0m (40.00 B)\n"
      ]
     },
     "metadata": {},
     "output_type": "display_data"
    },
    {
     "name": "stdout",
     "output_type": "stream",
     "text": [
      "Epoch 1/25\n",
      "\u001b[1m507/507\u001b[0m \u001b[32m━━━━━━━━━━━━━━━━━━━━\u001b[0m\u001b[37m\u001b[0m \u001b[1m14s\u001b[0m 24ms/step - false_negatives: 726.0177 - false_positives: 226.2067 - loss: 0.6781 - true_positives: 17.1713 - val_false_negatives: 339.0000 - val_false_positives: 2273.0000 - val_loss: 0.6620 - val_true_positives: 208.0000\n",
      "Epoch 2/25\n",
      "\u001b[1m507/507\u001b[0m \u001b[32m━━━━━━━━━━━━━━━━━━━━\u001b[0m\u001b[37m\u001b[0m \u001b[1m12s\u001b[0m 23ms/step - false_negatives: 582.3347 - false_positives: 1885.6161 - loss: 0.6701 - true_positives: 158.8622 - val_false_negatives: 225.0000 - val_false_positives: 3780.0000 - val_loss: 0.6469 - val_true_positives: 322.0000\n",
      "Epoch 3/25\n",
      "\u001b[1m507/507\u001b[0m \u001b[32m━━━━━━━━━━━━━━━━━━━━\u001b[0m\u001b[37m\u001b[0m \u001b[1m20s\u001b[0m 22ms/step - false_negatives: 390.8386 - false_positives: 4565.2104 - loss: 0.6757 - true_positives: 370.6535 - val_false_negatives: 206.0000 - val_false_positives: 4345.0000 - val_loss: 0.6344 - val_true_positives: 341.0000\n",
      "Epoch 4/25\n",
      "\u001b[1m507/507\u001b[0m \u001b[32m━━━━━━━━━━━━━━━━━━━━\u001b[0m\u001b[37m\u001b[0m \u001b[1m21s\u001b[0m 23ms/step - false_negatives: 333.6378 - false_positives: 5906.9683 - loss: 0.6905 - true_positives: 445.8405 - val_false_negatives: 189.0000 - val_false_positives: 4572.0000 - val_loss: 0.6303 - val_true_positives: 358.0000\n",
      "Epoch 5/25\n",
      "\u001b[1m507/507\u001b[0m \u001b[32m━━━━━━━━━━━━━━━━━━━━\u001b[0m\u001b[37m\u001b[0m \u001b[1m20s\u001b[0m 22ms/step - false_negatives: 287.8819 - false_positives: 6389.8643 - loss: 0.6711 - true_positives: 477.9685 - val_false_negatives: 184.0000 - val_false_positives: 4735.0000 - val_loss: 0.6361 - val_true_positives: 363.0000\n",
      "Epoch 6/25\n",
      "\u001b[1m507/507\u001b[0m \u001b[32m━━━━━━━━━━━━━━━━━━━━\u001b[0m\u001b[37m\u001b[0m \u001b[1m11s\u001b[0m 22ms/step - false_negatives: 280.5886 - false_positives: 6769.5884 - loss: 0.6653 - true_positives: 491.9843 - val_false_negatives: 182.0000 - val_false_positives: 4810.0000 - val_loss: 0.6438 - val_true_positives: 365.0000\n",
      "Epoch 7/25\n",
      "\u001b[1m507/507\u001b[0m \u001b[32m━━━━━━━━━━━━━━━━━━━━\u001b[0m\u001b[37m\u001b[0m \u001b[1m12s\u001b[0m 24ms/step - false_negatives: 261.1299 - false_positives: 6937.2935 - loss: 0.6526 - true_positives: 500.9468 - val_false_negatives: 178.0000 - val_false_positives: 4886.0000 - val_loss: 0.6530 - val_true_positives: 369.0000\n",
      "Epoch 8/25\n",
      "\u001b[1m507/507\u001b[0m \u001b[32m━━━━━━━━━━━━━━━━━━━━\u001b[0m\u001b[37m\u001b[0m \u001b[1m12s\u001b[0m 23ms/step - false_negatives: 274.4823 - false_positives: 7032.8545 - loss: 0.6688 - true_positives: 507.3189 - val_false_negatives: 178.0000 - val_false_positives: 4869.0000 - val_loss: 0.6586 - val_true_positives: 369.0000\n",
      "Epoch 9/25\n",
      "\u001b[1m507/507\u001b[0m \u001b[32m━━━━━━━━━━━━━━━━━━━━\u001b[0m\u001b[37m\u001b[0m \u001b[1m11s\u001b[0m 22ms/step - false_negatives: 261.4547 - false_positives: 7077.3467 - loss: 0.6825 - true_positives: 524.1929 - val_false_negatives: 178.0000 - val_false_positives: 4878.0000 - val_loss: 0.6631 - val_true_positives: 369.0000\n",
      "Epoch 10/25\n",
      "\u001b[1m507/507\u001b[0m \u001b[32m━━━━━━━━━━━━━━━━━━━━\u001b[0m\u001b[37m\u001b[0m \u001b[1m12s\u001b[0m 23ms/step - false_negatives: 267.8465 - false_positives: 7073.4053 - loss: 0.6644 - true_positives: 503.1142 - val_false_negatives: 177.0000 - val_false_positives: 4888.0000 - val_loss: 0.6678 - val_true_positives: 370.0000\n",
      "Epoch 11/25\n",
      "\u001b[1m507/507\u001b[0m \u001b[32m━━━━━━━━━━━━━━━━━━━━\u001b[0m\u001b[37m\u001b[0m \u001b[1m20s\u001b[0m 22ms/step - false_negatives: 265.6693 - false_positives: 7065.4766 - loss: 0.6601 - true_positives: 490.9252 - val_false_negatives: 178.0000 - val_false_positives: 4854.0000 - val_loss: 0.6680 - val_true_positives: 369.0000\n",
      "Epoch 12/25\n",
      "\u001b[1m507/507\u001b[0m \u001b[32m━━━━━━━━━━━━━━━━━━━━\u001b[0m\u001b[37m\u001b[0m \u001b[1m12s\u001b[0m 23ms/step - false_negatives: 263.2914 - false_positives: 6977.4507 - loss: 0.6578 - true_positives: 494.9153 - val_false_negatives: 179.0000 - val_false_positives: 4832.0000 - val_loss: 0.6707 - val_true_positives: 368.0000\n",
      "Epoch 13/25\n",
      "\u001b[1m507/507\u001b[0m \u001b[32m━━━━━━━━━━━━━━━━━━━━\u001b[0m\u001b[37m\u001b[0m \u001b[1m11s\u001b[0m 22ms/step - false_negatives: 268.9252 - false_positives: 6928.6890 - loss: 0.6576 - true_positives: 488.2323 - val_false_negatives: 184.0000 - val_false_positives: 4793.0000 - val_loss: 0.6702 - val_true_positives: 363.0000\n",
      "Epoch 14/25\n",
      "\u001b[1m507/507\u001b[0m \u001b[32m━━━━━━━━━━━━━━━━━━━━\u001b[0m\u001b[37m\u001b[0m \u001b[1m12s\u001b[0m 23ms/step - false_negatives: 265.0925 - false_positives: 6906.9663 - loss: 0.6403 - true_positives: 486.6968 - val_false_negatives: 184.0000 - val_false_positives: 4805.0000 - val_loss: 0.6712 - val_true_positives: 363.0000\n",
      "Epoch 15/25\n",
      "\u001b[1m507/507\u001b[0m \u001b[32m━━━━━━━━━━━━━━━━━━━━\u001b[0m\u001b[37m\u001b[0m \u001b[1m20s\u001b[0m 22ms/step - false_negatives: 262.4213 - false_positives: 6867.4766 - loss: 0.6541 - true_positives: 493.9055 - val_false_negatives: 185.0000 - val_false_positives: 4753.0000 - val_loss: 0.6713 - val_true_positives: 362.0000\n",
      "Epoch 16/25\n",
      "\u001b[1m507/507\u001b[0m \u001b[32m━━━━━━━━━━━━━━━━━━━━\u001b[0m\u001b[37m\u001b[0m \u001b[1m12s\u001b[0m 23ms/step - false_negatives: 268.8445 - false_positives: 6859.7266 - loss: 0.6575 - true_positives: 499.2697 - val_false_negatives: 186.0000 - val_false_positives: 4705.0000 - val_loss: 0.6715 - val_true_positives: 361.0000\n",
      "Epoch 17/25\n",
      "\u001b[1m507/507\u001b[0m \u001b[32m━━━━━━━━━━━━━━━━━━━━\u001b[0m\u001b[37m\u001b[0m \u001b[1m20s\u001b[0m 22ms/step - false_negatives: 265.1220 - false_positives: 6822.2896 - loss: 0.6653 - true_positives: 486.8937 - val_false_negatives: 187.0000 - val_false_positives: 4691.0000 - val_loss: 0.6707 - val_true_positives: 360.0000\n",
      "Epoch 18/25\n",
      "\u001b[1m507/507\u001b[0m \u001b[32m━━━━━━━━━━━━━━━━━━━━\u001b[0m\u001b[37m\u001b[0m \u001b[1m21s\u001b[0m 23ms/step - false_negatives: 262.5630 - false_positives: 6793.9507 - loss: 0.6499 - true_positives: 496.8051 - val_false_negatives: 187.0000 - val_false_positives: 4640.0000 - val_loss: 0.6693 - val_true_positives: 360.0000\n",
      "Epoch 19/25\n",
      "\u001b[1m507/507\u001b[0m \u001b[32m━━━━━━━━━━━━━━━━━━━━\u001b[0m\u001b[37m\u001b[0m \u001b[1m12s\u001b[0m 23ms/step - false_negatives: 270.3858 - false_positives: 6773.7183 - loss: 0.6612 - true_positives: 503.0807 - val_false_negatives: 190.0000 - val_false_positives: 4608.0000 - val_loss: 0.6681 - val_true_positives: 357.0000\n",
      "Epoch 20/25\n",
      "\u001b[1m507/507\u001b[0m \u001b[32m━━━━━━━━━━━━━━━━━━━━\u001b[0m\u001b[37m\u001b[0m \u001b[1m12s\u001b[0m 23ms/step - false_negatives: 262.8110 - false_positives: 6669.9033 - loss: 0.6475 - true_positives: 495.6142 - val_false_negatives: 190.0000 - val_false_positives: 4597.0000 - val_loss: 0.6694 - val_true_positives: 357.0000\n",
      "Epoch 21/25\n",
      "\u001b[1m507/507\u001b[0m \u001b[32m━━━━━━━━━━━━━━━━━━━━\u001b[0m\u001b[37m\u001b[0m \u001b[1m12s\u001b[0m 24ms/step - false_negatives: 279.3760 - false_positives: 6634.3169 - loss: 0.6542 - true_positives: 483.1358 - val_false_negatives: 190.0000 - val_false_positives: 4593.0000 - val_loss: 0.6693 - val_true_positives: 357.0000\n",
      "Epoch 22/25\n",
      "\u001b[1m507/507\u001b[0m \u001b[32m━━━━━━━━━━━━━━━━━━━━\u001b[0m\u001b[37m\u001b[0m \u001b[1m12s\u001b[0m 23ms/step - false_negatives: 278.9252 - false_positives: 6646.8286 - loss: 0.6645 - true_positives: 485.5905 - val_false_negatives: 190.0000 - val_false_positives: 4579.0000 - val_loss: 0.6678 - val_true_positives: 357.0000\n",
      "Epoch 23/25\n",
      "\u001b[1m507/507\u001b[0m \u001b[32m━━━━━━━━━━━━━━━━━━━━\u001b[0m\u001b[37m\u001b[0m \u001b[1m12s\u001b[0m 23ms/step - false_negatives: 283.8307 - false_positives: 6644.1006 - loss: 0.6698 - true_positives: 489.0551 - val_false_negatives: 191.0000 - val_false_positives: 4503.0000 - val_loss: 0.6654 - val_true_positives: 356.0000\n",
      "Epoch 24/25\n",
      "\u001b[1m507/507\u001b[0m \u001b[32m━━━━━━━━━━━━━━━━━━━━\u001b[0m\u001b[37m\u001b[0m \u001b[1m13s\u001b[0m 26ms/step - false_negatives: 281.5453 - false_positives: 6662.8857 - loss: 0.6619 - true_positives: 485.8858 - val_false_negatives: 191.0000 - val_false_positives: 4528.0000 - val_loss: 0.6656 - val_true_positives: 356.0000\n",
      "Epoch 25/25\n",
      "\u001b[1m507/507\u001b[0m \u001b[32m━━━━━━━━━━━━━━━━━━━━\u001b[0m\u001b[37m\u001b[0m \u001b[1m12s\u001b[0m 23ms/step - false_negatives: 283.3209 - false_positives: 6610.5688 - loss: 0.6542 - true_positives: 472.6732 - val_false_negatives: 191.0000 - val_false_positives: 4560.0000 - val_loss: 0.6695 - val_true_positives: 356.0000\n"
     ]
    },
    {
     "data": {
      "image/png": "[encoded data removed]",
      "text/plain": [
       "<Figure size 800x800 with 4 Axes>"
      ]
     },
     "metadata": {},
     "output_type": "display_data"
    },
    {
     "name": "stdout",
     "output_type": "stream",
     "text": [
      "\n",
      "\n",
      "CPU times: user 7min 25s, sys: 24.5 s, total: 7min 50s\n",
      "Wall time: 6min 12s\n"
     ]
    }
   ],
   "source": [
    "%%time\n",
    "\n",
    "# Generate feature, label pairs\n",
    "input_window=6\n",
    "features, labels=generate_data(data_df, input_window)\n",
    "\n",
    "# Split them into training and validation\n",
    "training_features, testing_features, training_labels, testing_labels=train_test_split(features, labels)\n",
    "print(f'Training features: {training_features.shape}')\n",
    "print(f'Training labels: {training_labels.shape}, {(sum(training_labels)/len(training_labels))*100:.1f}% positive class')\n",
    "print(f'Testing features: {testing_features.shape}')\n",
    "print(f'Testing labels: {testing_labels.shape}, {(sum(testing_labels)/len(testing_labels))*100:.1f}% positive class')\n",
    "\n",
    "model=build_lstm(training_features, learning_rate=0.00001)\n",
    "model.summary()\n",
    "\n",
    "result, model=train_lstm(\n",
    "    model,\n",
    "    training_features,\n",
    "    training_labels,\n",
    "    testing_features,\n",
    "    testing_labels,\n",
    "    epochs=25\n",
    ")\n",
    "\n",
    "plot_single_training_run(result).show()\n",
    "\n",
    "print('\\n')"
   ]
  },
  {
   "cell_type": "markdown",
   "metadata": {},
   "source": [
    "### 4.5. Evaluate baseline LSTM model"
   ]
  },
  {
   "cell_type": "code",
   "execution_count": 33,
   "metadata": {},
   "outputs": [
    {
     "name": "stdout",
     "output_type": "stream",
     "text": [
      "\u001b[1m 12/338\u001b[0m \u001b[37m━━━━━━━━━━━━━━━━━━━━\u001b[0m \u001b[1m1s\u001b[0m 6ms/step "
     ]
    },
    {
     "name": "stdout",
     "output_type": "stream",
     "text": [
      "\u001b[1m338/338\u001b[0m \u001b[32m━━━━━━━━━━━━━━━━━━━━\u001b[0m\u001b[37m\u001b[0m \u001b[1m2s\u001b[0m 4ms/step\n"
     ]
    },
    {
     "data": {
      "text/html": [
       "<div>\n",
       "<style scoped>\n",
       "    .dataframe tbody tr th:only-of-type {\n",
       "        vertical-align: middle;\n",
       "    }\n",
       "\n",
       "    .dataframe tbody tr th {\n",
       "        vertical-align: top;\n",
       "    }\n",
       "\n",
       "    .dataframe thead th {\n",
       "        text-align: right;\n",
       "    }\n",
       "</style>\n",
       "<table border=\"1\" class=\"dataframe\">\n",
       "  <thead>\n",
       "    <tr style=\"text-align: right;\">\n",
       "      <th></th>\n",
       "      <th>labels</th>\n",
       "      <th>probabilities</th>\n",
       "      <th>predicted_labels</th>\n",
       "    </tr>\n",
       "  </thead>\n",
       "  <tbody>\n",
       "    <tr>\n",
       "      <th>0</th>\n",
       "      <td>0</td>\n",
       "      <td>0.567918</td>\n",
       "      <td>1</td>\n",
       "    </tr>\n",
       "    <tr>\n",
       "      <th>1</th>\n",
       "      <td>0</td>\n",
       "      <td>0.369669</td>\n",
       "      <td>0</td>\n",
       "    </tr>\n",
       "    <tr>\n",
       "      <th>2</th>\n",
       "      <td>0</td>\n",
       "      <td>0.242653</td>\n",
       "      <td>0</td>\n",
       "    </tr>\n",
       "    <tr>\n",
       "      <th>3</th>\n",
       "      <td>1</td>\n",
       "      <td>0.203982</td>\n",
       "      <td>0</td>\n",
       "    </tr>\n",
       "    <tr>\n",
       "      <th>4</th>\n",
       "      <td>0</td>\n",
       "      <td>0.487732</td>\n",
       "      <td>0</td>\n",
       "    </tr>\n",
       "  </tbody>\n",
       "</table>\n",
       "</div>"
      ],
      "text/plain": [
       "   labels  probabilities  predicted_labels\n",
       "0       0       0.567918                 1\n",
       "1       0       0.369669                 0\n",
       "2       0       0.242653                 0\n",
       "3       1       0.203982                 0\n",
       "4       0       0.487732                 0"
      ]
     },
     "execution_count": 33,
     "metadata": {},
     "output_type": "execute_result"
    }
   ],
   "source": [
    "threshold=0.5\n",
    "predictions=model.predict(testing_features)\n",
    "calls=np.where(predictions > threshold, 1, 0)\n",
    "predictions_df=pd.DataFrame.from_dict({'labels': testing_labels.flatten(), 'probabilities': predictions.flatten(), 'predicted_labels': calls.flatten()})\n",
    "predictions_df.head()"
   ]
  },
  {
   "cell_type": "code",
   "execution_count": 34,
   "metadata": {},
   "outputs": [
    {
     "data": {
      "image/png": "[encoded data removed]",
      "text/plain": [
       "<Figure size 640x480 with 2 Axes>"
      ]
     },
     "metadata": {},
     "output_type": "display_data"
    }
   ],
   "source": [
    "cm=confusion_matrix(testing_labels, calls, normalize='all')\n",
    "cm_disp=ConfusionMatrixDisplay(confusion_matrix=cm, display_labels=['no incident', 'incident'])\n",
    "_=cm_disp.plot()"
   ]
  },
  {
   "cell_type": "code",
   "execution_count": 26,
   "metadata": {},
   "outputs": [
    {
     "data": {
      "image/png": "[encoded data removed]",
      "text/plain": [
       "<Figure size 640x480 with 1 Axes>"
      ]
     },
     "metadata": {},
     "output_type": "display_data"
    }
   ],
   "source": [
    "plt.hist(predictions, bins=30, color='black')\n",
    "plt.show()"
   ]
  },
  {
   "cell_type": "code",
   "execution_count": 37,
   "metadata": {},
   "outputs": [
    {
     "data": {
      "image/png": "[encoded data removed]",
      "text/plain": [
       "<Figure size 640x480 with 1 Axes>"
      ]
     },
     "metadata": {},
     "output_type": "display_data"
    }
   ],
   "source": [
    "sns.boxplot(predictions_df, x='labels', y='probabilities', color='gray')\n",
    "plt.show()"
   ]
  }
 ],
 "metadata": {
  "kernelspec": {
   "display_name": "Python 3",
   "language": "python",
   "name": "python3"
  },
  "language_info": {
   "codemirror_mode": {
    "name": "ipython",
    "version": 3
   },
   "file_extension": ".py",
   "mimetype": "text/x-python",
   "name": "python",
   "nbconvert_exporter": "python",
   "pygments_lexer": "ipython3",
   "version": "3.10.12"
  }
 },
 "nbformat": 4,
 "nbformat_minor": 2
}
