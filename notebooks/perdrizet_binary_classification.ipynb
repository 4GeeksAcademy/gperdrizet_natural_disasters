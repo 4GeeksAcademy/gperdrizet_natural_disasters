{
 "cells": [
  {
   "cell_type": "markdown",
   "metadata": {},
   "source": [
    "# Logistic regression model"
   ]
  },
  {
   "cell_type": "code",
   "execution_count": 1,
   "metadata": {},
   "outputs": [],
   "source": [
    "# Standard library imports\n",
    "from typing import Tuple\n",
    "\n",
    "# PyPI imports\n",
    "import numpy as np\n",
    "import pandas as pd\n",
    "import matplotlib.pyplot as plt\n",
    "from sklearn.model_selection import train_test_split\n",
    "from sklearn.preprocessing import StandardScaler\n",
    "from sklearn.linear_model import LogisticRegression\n",
    "from sklearn.metrics import confusion_matrix, ConfusionMatrixDisplay\n",
    "\n",
    "# Input data\n",
    "data_file='../data/resampled_disaster_data_all.parquet'"
   ]
  },
  {
   "cell_type": "markdown",
   "metadata": {},
   "source": [
    "## 1. Data loading"
   ]
  },
  {
   "cell_type": "code",
   "execution_count": 2,
   "metadata": {},
   "outputs": [
    {
     "data": {
      "text/html": [
       "<div>\n",
       "<style scoped>\n",
       "    .dataframe tbody tr th:only-of-type {\n",
       "        vertical-align: middle;\n",
       "    }\n",
       "\n",
       "    .dataframe tbody tr th {\n",
       "        vertical-align: top;\n",
       "    }\n",
       "\n",
       "    .dataframe thead th {\n",
       "        text-align: right;\n",
       "    }\n",
       "</style>\n",
       "<table border=\"1\" class=\"dataframe\">\n",
       "  <thead>\n",
       "    <tr style=\"text-align: right;\">\n",
       "      <th></th>\n",
       "      <th>state</th>\n",
       "      <th>Coastal Storm</th>\n",
       "      <th>Fire</th>\n",
       "      <th>Flood</th>\n",
       "      <th>Hurricane</th>\n",
       "      <th>Severe Storm</th>\n",
       "      <th>Tornado</th>\n",
       "      <th>Typhoon</th>\n",
       "      <th>Winter weather</th>\n",
       "      <th>No incident</th>\n",
       "      <th>year</th>\n",
       "      <th>month</th>\n",
       "    </tr>\n",
       "  </thead>\n",
       "  <tbody>\n",
       "    <tr>\n",
       "      <th>0</th>\n",
       "      <td>AK</td>\n",
       "      <td>0</td>\n",
       "      <td>0</td>\n",
       "      <td>0</td>\n",
       "      <td>0</td>\n",
       "      <td>0</td>\n",
       "      <td>0</td>\n",
       "      <td>0</td>\n",
       "      <td>0</td>\n",
       "      <td>1</td>\n",
       "      <td>1953</td>\n",
       "      <td>10</td>\n",
       "    </tr>\n",
       "    <tr>\n",
       "      <th>1</th>\n",
       "      <td>AK</td>\n",
       "      <td>0</td>\n",
       "      <td>0</td>\n",
       "      <td>0</td>\n",
       "      <td>0</td>\n",
       "      <td>0</td>\n",
       "      <td>0</td>\n",
       "      <td>0</td>\n",
       "      <td>0</td>\n",
       "      <td>1</td>\n",
       "      <td>1953</td>\n",
       "      <td>11</td>\n",
       "    </tr>\n",
       "    <tr>\n",
       "      <th>2</th>\n",
       "      <td>AK</td>\n",
       "      <td>0</td>\n",
       "      <td>0</td>\n",
       "      <td>0</td>\n",
       "      <td>0</td>\n",
       "      <td>0</td>\n",
       "      <td>0</td>\n",
       "      <td>0</td>\n",
       "      <td>0</td>\n",
       "      <td>1</td>\n",
       "      <td>1953</td>\n",
       "      <td>12</td>\n",
       "    </tr>\n",
       "    <tr>\n",
       "      <th>3</th>\n",
       "      <td>AK</td>\n",
       "      <td>0</td>\n",
       "      <td>0</td>\n",
       "      <td>0</td>\n",
       "      <td>0</td>\n",
       "      <td>0</td>\n",
       "      <td>0</td>\n",
       "      <td>0</td>\n",
       "      <td>0</td>\n",
       "      <td>1</td>\n",
       "      <td>1954</td>\n",
       "      <td>1</td>\n",
       "    </tr>\n",
       "    <tr>\n",
       "      <th>4</th>\n",
       "      <td>AK</td>\n",
       "      <td>0</td>\n",
       "      <td>0</td>\n",
       "      <td>0</td>\n",
       "      <td>0</td>\n",
       "      <td>0</td>\n",
       "      <td>0</td>\n",
       "      <td>0</td>\n",
       "      <td>0</td>\n",
       "      <td>1</td>\n",
       "      <td>1954</td>\n",
       "      <td>2</td>\n",
       "    </tr>\n",
       "  </tbody>\n",
       "</table>\n",
       "</div>"
      ],
      "text/plain": [
       "  state  Coastal Storm  Fire  Flood  Hurricane  Severe Storm  Tornado  \\\n",
       "0    AK              0     0      0          0             0        0   \n",
       "1    AK              0     0      0          0             0        0   \n",
       "2    AK              0     0      0          0             0        0   \n",
       "3    AK              0     0      0          0             0        0   \n",
       "4    AK              0     0      0          0             0        0   \n",
       "\n",
       "   Typhoon  Winter weather  No incident  year  month  \n",
       "0        0               0            1  1953     10  \n",
       "1        0               0            1  1953     11  \n",
       "2        0               0            1  1953     12  \n",
       "3        0               0            1  1954      1  \n",
       "4        0               0            1  1954      2  "
      ]
     },
     "execution_count": 2,
     "metadata": {},
     "output_type": "execute_result"
    }
   ],
   "source": [
    "data_df=pd.read_parquet(data_file)\n",
    "data_df.head()"
   ]
  },
  {
   "cell_type": "code",
   "execution_count": 3,
   "metadata": {},
   "outputs": [
    {
     "name": "stdout",
     "output_type": "stream",
     "text": [
      "<class 'pandas.core.frame.DataFrame'>\n",
      "RangeIndex: 43639 entries, 0 to 43638\n",
      "Data columns (total 12 columns):\n",
      " #   Column          Non-Null Count  Dtype \n",
      "---  ------          --------------  ----- \n",
      " 0   state           43639 non-null  object\n",
      " 1   Coastal Storm   43639 non-null  int64 \n",
      " 2   Fire            43639 non-null  int64 \n",
      " 3   Flood           43639 non-null  int64 \n",
      " 4   Hurricane       43639 non-null  int64 \n",
      " 5   Severe Storm    43639 non-null  int64 \n",
      " 6   Tornado         43639 non-null  int64 \n",
      " 7   Typhoon         43639 non-null  int64 \n",
      " 8   Winter weather  43639 non-null  int64 \n",
      " 9   No incident     43639 non-null  int64 \n",
      " 10  year            43639 non-null  int64 \n",
      " 11  month           43639 non-null  int64 \n",
      "dtypes: int64(11), object(1)\n",
      "memory usage: 4.0+ MB\n"
     ]
    }
   ],
   "source": [
    "data_df.info()"
   ]
  },
  {
   "cell_type": "code",
   "execution_count": 4,
   "metadata": {},
   "outputs": [
    {
     "name": "stdout",
     "output_type": "stream",
     "text": [
      "Severe storms: 982\n",
      "Hurricanes: 319\n",
      "Floods: 839\n"
     ]
    }
   ],
   "source": [
    "print(f\"Severe storms: {data_df['Severe Storm'].sum()}\")\n",
    "print(f\"Hurricanes: {data_df['Hurricane'].sum()}\")\n",
    "print(f\"Floods: {data_df['Flood'].sum()}\")"
   ]
  },
  {
   "cell_type": "markdown",
   "metadata": {},
   "source": [
    "## 2. Data preparation\n",
    "\n",
    "### 2.1. Create multiindex"
   ]
  },
  {
   "cell_type": "code",
   "execution_count": 5,
   "metadata": {},
   "outputs": [
    {
     "data": {
      "text/html": [
       "<div>\n",
       "<style scoped>\n",
       "    .dataframe tbody tr th:only-of-type {\n",
       "        vertical-align: middle;\n",
       "    }\n",
       "\n",
       "    .dataframe tbody tr th {\n",
       "        vertical-align: top;\n",
       "    }\n",
       "\n",
       "    .dataframe thead th {\n",
       "        text-align: right;\n",
       "    }\n",
       "</style>\n",
       "<table border=\"1\" class=\"dataframe\">\n",
       "  <thead>\n",
       "    <tr style=\"text-align: right;\">\n",
       "      <th></th>\n",
       "      <th></th>\n",
       "      <th></th>\n",
       "      <th>state</th>\n",
       "      <th>Coastal Storm</th>\n",
       "      <th>Fire</th>\n",
       "      <th>Flood</th>\n",
       "      <th>Hurricane</th>\n",
       "      <th>Severe Storm</th>\n",
       "      <th>Tornado</th>\n",
       "      <th>Typhoon</th>\n",
       "      <th>Winter weather</th>\n",
       "      <th>No incident</th>\n",
       "      <th>year</th>\n",
       "      <th>month</th>\n",
       "    </tr>\n",
       "    <tr>\n",
       "      <th>Year</th>\n",
       "      <th>State</th>\n",
       "      <th>Month</th>\n",
       "      <th></th>\n",
       "      <th></th>\n",
       "      <th></th>\n",
       "      <th></th>\n",
       "      <th></th>\n",
       "      <th></th>\n",
       "      <th></th>\n",
       "      <th></th>\n",
       "      <th></th>\n",
       "      <th></th>\n",
       "      <th></th>\n",
       "      <th></th>\n",
       "    </tr>\n",
       "  </thead>\n",
       "  <tbody>\n",
       "    <tr>\n",
       "      <th rowspan=\"3\" valign=\"top\">1953</th>\n",
       "      <th rowspan=\"3\" valign=\"top\">AK</th>\n",
       "      <th>10</th>\n",
       "      <td>AK</td>\n",
       "      <td>0</td>\n",
       "      <td>0</td>\n",
       "      <td>0</td>\n",
       "      <td>0</td>\n",
       "      <td>0</td>\n",
       "      <td>0</td>\n",
       "      <td>0</td>\n",
       "      <td>0</td>\n",
       "      <td>1</td>\n",
       "      <td>1953</td>\n",
       "      <td>10</td>\n",
       "    </tr>\n",
       "    <tr>\n",
       "      <th>11</th>\n",
       "      <td>AK</td>\n",
       "      <td>0</td>\n",
       "      <td>0</td>\n",
       "      <td>0</td>\n",
       "      <td>0</td>\n",
       "      <td>0</td>\n",
       "      <td>0</td>\n",
       "      <td>0</td>\n",
       "      <td>0</td>\n",
       "      <td>1</td>\n",
       "      <td>1953</td>\n",
       "      <td>11</td>\n",
       "    </tr>\n",
       "    <tr>\n",
       "      <th>12</th>\n",
       "      <td>AK</td>\n",
       "      <td>0</td>\n",
       "      <td>0</td>\n",
       "      <td>0</td>\n",
       "      <td>0</td>\n",
       "      <td>0</td>\n",
       "      <td>0</td>\n",
       "      <td>0</td>\n",
       "      <td>0</td>\n",
       "      <td>1</td>\n",
       "      <td>1953</td>\n",
       "      <td>12</td>\n",
       "    </tr>\n",
       "    <tr>\n",
       "      <th rowspan=\"2\" valign=\"top\">1954</th>\n",
       "      <th rowspan=\"2\" valign=\"top\">AK</th>\n",
       "      <th>1</th>\n",
       "      <td>AK</td>\n",
       "      <td>0</td>\n",
       "      <td>0</td>\n",
       "      <td>0</td>\n",
       "      <td>0</td>\n",
       "      <td>0</td>\n",
       "      <td>0</td>\n",
       "      <td>0</td>\n",
       "      <td>0</td>\n",
       "      <td>1</td>\n",
       "      <td>1954</td>\n",
       "      <td>1</td>\n",
       "    </tr>\n",
       "    <tr>\n",
       "      <th>2</th>\n",
       "      <td>AK</td>\n",
       "      <td>0</td>\n",
       "      <td>0</td>\n",
       "      <td>0</td>\n",
       "      <td>0</td>\n",
       "      <td>0</td>\n",
       "      <td>0</td>\n",
       "      <td>0</td>\n",
       "      <td>0</td>\n",
       "      <td>1</td>\n",
       "      <td>1954</td>\n",
       "      <td>2</td>\n",
       "    </tr>\n",
       "  </tbody>\n",
       "</table>\n",
       "</div>"
      ],
      "text/plain": [
       "                 state  Coastal Storm  Fire  Flood  Hurricane  Severe Storm  \\\n",
       "Year State Month                                                              \n",
       "1953 AK    10       AK              0     0      0          0             0   \n",
       "           11       AK              0     0      0          0             0   \n",
       "           12       AK              0     0      0          0             0   \n",
       "1954 AK    1        AK              0     0      0          0             0   \n",
       "           2        AK              0     0      0          0             0   \n",
       "\n",
       "                  Tornado  Typhoon  Winter weather  No incident  year  month  \n",
       "Year State Month                                                              \n",
       "1953 AK    10           0        0               0            1  1953     10  \n",
       "           11           0        0               0            1  1953     11  \n",
       "           12           0        0               0            1  1953     12  \n",
       "1954 AK    1            0        0               0            1  1954      1  \n",
       "           2            0        0               0            1  1954      2  "
      ]
     },
     "execution_count": 5,
     "metadata": {},
     "output_type": "execute_result"
    }
   ],
   "source": [
    "indexes=[\n",
    "    data_df['year'].tolist(),\n",
    "    data_df['state'].tolist(),\n",
    "    data_df['month'].tolist()\n",
    "]\n",
    "\n",
    "index_tuples=list(zip(*indexes))\n",
    "index=pd.MultiIndex.from_tuples(index_tuples, names=['Year', 'State', 'Month'])\n",
    "data_df.set_index(index, inplace=True)\n",
    "data_df.head()"
   ]
  },
  {
   "cell_type": "markdown",
   "metadata": {},
   "source": [
    "### 2.2. Cyclical month encoding"
   ]
  },
  {
   "cell_type": "code",
   "execution_count": 6,
   "metadata": {},
   "outputs": [],
   "source": [
    "# # Don't worry about downcasting FutureWarning\n",
    "# pd.set_option('future.no_silent_downcasting', True)\n",
    "\n",
    "# Define a helper function here so we can encode the time\n",
    "# features the same way on the training and testing data\n",
    "# without copy-pasting the same code\n",
    "def encode_month(data_df: pd.DataFrame) -> pd.DataFrame:\n",
    "    '''Takes a Pandas dataframe and uses cyclical sin/cos to encode\n",
    "    month feature. Returns updated dataframe.'''\n",
    "\n",
    "    data_df['month_sin'] = np.sin(2 * np.pi * data_df['month']/12.0)\n",
    "    data_df['month_cos'] = np.cos(2 * np.pi * data_df['month']/12.0)\n",
    "\n",
    "    # Drop the original string features\n",
    "    data_df.drop(['month'], axis=1, inplace=True)\n",
    "\n",
    "    return data_df"
   ]
  },
  {
   "cell_type": "code",
   "execution_count": 7,
   "metadata": {},
   "outputs": [
    {
     "data": {
      "text/html": [
       "<div>\n",
       "<style scoped>\n",
       "    .dataframe tbody tr th:only-of-type {\n",
       "        vertical-align: middle;\n",
       "    }\n",
       "\n",
       "    .dataframe tbody tr th {\n",
       "        vertical-align: top;\n",
       "    }\n",
       "\n",
       "    .dataframe thead th {\n",
       "        text-align: right;\n",
       "    }\n",
       "</style>\n",
       "<table border=\"1\" class=\"dataframe\">\n",
       "  <thead>\n",
       "    <tr style=\"text-align: right;\">\n",
       "      <th></th>\n",
       "      <th></th>\n",
       "      <th></th>\n",
       "      <th>state</th>\n",
       "      <th>Coastal Storm</th>\n",
       "      <th>Fire</th>\n",
       "      <th>Flood</th>\n",
       "      <th>Hurricane</th>\n",
       "      <th>Severe Storm</th>\n",
       "      <th>Tornado</th>\n",
       "      <th>Typhoon</th>\n",
       "      <th>Winter weather</th>\n",
       "      <th>No incident</th>\n",
       "      <th>year</th>\n",
       "      <th>month_sin</th>\n",
       "      <th>month_cos</th>\n",
       "    </tr>\n",
       "    <tr>\n",
       "      <th>Year</th>\n",
       "      <th>State</th>\n",
       "      <th>Month</th>\n",
       "      <th></th>\n",
       "      <th></th>\n",
       "      <th></th>\n",
       "      <th></th>\n",
       "      <th></th>\n",
       "      <th></th>\n",
       "      <th></th>\n",
       "      <th></th>\n",
       "      <th></th>\n",
       "      <th></th>\n",
       "      <th></th>\n",
       "      <th></th>\n",
       "      <th></th>\n",
       "    </tr>\n",
       "  </thead>\n",
       "  <tbody>\n",
       "    <tr>\n",
       "      <th rowspan=\"3\" valign=\"top\">1953</th>\n",
       "      <th rowspan=\"3\" valign=\"top\">AK</th>\n",
       "      <th>10</th>\n",
       "      <td>AK</td>\n",
       "      <td>0</td>\n",
       "      <td>0</td>\n",
       "      <td>0</td>\n",
       "      <td>0</td>\n",
       "      <td>0</td>\n",
       "      <td>0</td>\n",
       "      <td>0</td>\n",
       "      <td>0</td>\n",
       "      <td>1</td>\n",
       "      <td>1953</td>\n",
       "      <td>-8.660254e-01</td>\n",
       "      <td>0.500000</td>\n",
       "    </tr>\n",
       "    <tr>\n",
       "      <th>11</th>\n",
       "      <td>AK</td>\n",
       "      <td>0</td>\n",
       "      <td>0</td>\n",
       "      <td>0</td>\n",
       "      <td>0</td>\n",
       "      <td>0</td>\n",
       "      <td>0</td>\n",
       "      <td>0</td>\n",
       "      <td>0</td>\n",
       "      <td>1</td>\n",
       "      <td>1953</td>\n",
       "      <td>-5.000000e-01</td>\n",
       "      <td>0.866025</td>\n",
       "    </tr>\n",
       "    <tr>\n",
       "      <th>12</th>\n",
       "      <td>AK</td>\n",
       "      <td>0</td>\n",
       "      <td>0</td>\n",
       "      <td>0</td>\n",
       "      <td>0</td>\n",
       "      <td>0</td>\n",
       "      <td>0</td>\n",
       "      <td>0</td>\n",
       "      <td>0</td>\n",
       "      <td>1</td>\n",
       "      <td>1953</td>\n",
       "      <td>-2.449294e-16</td>\n",
       "      <td>1.000000</td>\n",
       "    </tr>\n",
       "    <tr>\n",
       "      <th rowspan=\"2\" valign=\"top\">1954</th>\n",
       "      <th rowspan=\"2\" valign=\"top\">AK</th>\n",
       "      <th>1</th>\n",
       "      <td>AK</td>\n",
       "      <td>0</td>\n",
       "      <td>0</td>\n",
       "      <td>0</td>\n",
       "      <td>0</td>\n",
       "      <td>0</td>\n",
       "      <td>0</td>\n",
       "      <td>0</td>\n",
       "      <td>0</td>\n",
       "      <td>1</td>\n",
       "      <td>1954</td>\n",
       "      <td>5.000000e-01</td>\n",
       "      <td>0.866025</td>\n",
       "    </tr>\n",
       "    <tr>\n",
       "      <th>2</th>\n",
       "      <td>AK</td>\n",
       "      <td>0</td>\n",
       "      <td>0</td>\n",
       "      <td>0</td>\n",
       "      <td>0</td>\n",
       "      <td>0</td>\n",
       "      <td>0</td>\n",
       "      <td>0</td>\n",
       "      <td>0</td>\n",
       "      <td>1</td>\n",
       "      <td>1954</td>\n",
       "      <td>8.660254e-01</td>\n",
       "      <td>0.500000</td>\n",
       "    </tr>\n",
       "  </tbody>\n",
       "</table>\n",
       "</div>"
      ],
      "text/plain": [
       "                 state  Coastal Storm  Fire  Flood  Hurricane  Severe Storm  \\\n",
       "Year State Month                                                              \n",
       "1953 AK    10       AK              0     0      0          0             0   \n",
       "           11       AK              0     0      0          0             0   \n",
       "           12       AK              0     0      0          0             0   \n",
       "1954 AK    1        AK              0     0      0          0             0   \n",
       "           2        AK              0     0      0          0             0   \n",
       "\n",
       "                  Tornado  Typhoon  Winter weather  No incident  year  \\\n",
       "Year State Month                                                        \n",
       "1953 AK    10           0        0               0            1  1953   \n",
       "           11           0        0               0            1  1953   \n",
       "           12           0        0               0            1  1953   \n",
       "1954 AK    1            0        0               0            1  1954   \n",
       "           2            0        0               0            1  1954   \n",
       "\n",
       "                     month_sin  month_cos  \n",
       "Year State Month                           \n",
       "1953 AK    10    -8.660254e-01   0.500000  \n",
       "           11    -5.000000e-01   0.866025  \n",
       "           12    -2.449294e-16   1.000000  \n",
       "1954 AK    1      5.000000e-01   0.866025  \n",
       "           2      8.660254e-01   0.500000  "
      ]
     },
     "execution_count": 7,
     "metadata": {},
     "output_type": "execute_result"
    }
   ],
   "source": [
    "data_df=encode_month(data_df)\n",
    "data_df.head()"
   ]
  },
  {
   "cell_type": "markdown",
   "metadata": {},
   "source": [
    "### 2.2. Dummy encode state\n",
    "\n",
    "Can't decide if I want this one or not - for actual timeseries models, the state will never change in a batch. But for simple logistic regression, it might be useful to have it. Let's do it, we can always just drop the columns later if we decide we don't want it."
   ]
  },
  {
   "cell_type": "code",
   "execution_count": 8,
   "metadata": {},
   "outputs": [],
   "source": [
    "# states=pd.get_dummies(data_df['state'], dtype=int)\n",
    "# states.head()"
   ]
  },
  {
   "cell_type": "code",
   "execution_count": 9,
   "metadata": {},
   "outputs": [],
   "source": [
    "# # Combine the state dummies and the original dataframe and remove the 'state' column\n",
    "# data_df=pd.concat([data_df, states], axis=1)\n",
    "data_df.drop('state', axis=1, inplace=True)\n",
    "# data_df.head()"
   ]
  },
  {
   "cell_type": "markdown",
   "metadata": {},
   "source": [
    "### 2.3. Collapse incident types"
   ]
  },
  {
   "cell_type": "code",
   "execution_count": 10,
   "metadata": {},
   "outputs": [
    {
     "name": "stdout",
     "output_type": "stream",
     "text": [
      "Severe storms: 982\n",
      "Hurricanes: 319\n",
      "Floods: 839\n"
     ]
    }
   ],
   "source": [
    "print(f\"Severe storms: {data_df['Severe Storm'].sum()}\")\n",
    "print(f\"Hurricanes: {data_df['Hurricane'].sum()}\")\n",
    "print(f\"Floods: {data_df['Flood'].sum()}\")"
   ]
  },
  {
   "cell_type": "code",
   "execution_count": 11,
   "metadata": {},
   "outputs": [
    {
     "data": {
      "text/html": [
       "<div>\n",
       "<style scoped>\n",
       "    .dataframe tbody tr th:only-of-type {\n",
       "        vertical-align: middle;\n",
       "    }\n",
       "\n",
       "    .dataframe tbody tr th {\n",
       "        vertical-align: top;\n",
       "    }\n",
       "\n",
       "    .dataframe thead th {\n",
       "        text-align: right;\n",
       "    }\n",
       "</style>\n",
       "<table border=\"1\" class=\"dataframe\">\n",
       "  <thead>\n",
       "    <tr style=\"text-align: right;\">\n",
       "      <th></th>\n",
       "      <th></th>\n",
       "      <th></th>\n",
       "      <th>year</th>\n",
       "      <th>month_sin</th>\n",
       "      <th>month_cos</th>\n",
       "      <th>incident</th>\n",
       "    </tr>\n",
       "    <tr>\n",
       "      <th>Year</th>\n",
       "      <th>State</th>\n",
       "      <th>Month</th>\n",
       "      <th></th>\n",
       "      <th></th>\n",
       "      <th></th>\n",
       "      <th></th>\n",
       "    </tr>\n",
       "  </thead>\n",
       "  <tbody>\n",
       "    <tr>\n",
       "      <th rowspan=\"3\" valign=\"top\">1953</th>\n",
       "      <th rowspan=\"3\" valign=\"top\">AK</th>\n",
       "      <th>10</th>\n",
       "      <td>1953</td>\n",
       "      <td>-8.660254e-01</td>\n",
       "      <td>0.500000</td>\n",
       "      <td>0</td>\n",
       "    </tr>\n",
       "    <tr>\n",
       "      <th>11</th>\n",
       "      <td>1953</td>\n",
       "      <td>-5.000000e-01</td>\n",
       "      <td>0.866025</td>\n",
       "      <td>0</td>\n",
       "    </tr>\n",
       "    <tr>\n",
       "      <th>12</th>\n",
       "      <td>1953</td>\n",
       "      <td>-2.449294e-16</td>\n",
       "      <td>1.000000</td>\n",
       "      <td>0</td>\n",
       "    </tr>\n",
       "    <tr>\n",
       "      <th rowspan=\"2\" valign=\"top\">1954</th>\n",
       "      <th rowspan=\"2\" valign=\"top\">AK</th>\n",
       "      <th>1</th>\n",
       "      <td>1954</td>\n",
       "      <td>5.000000e-01</td>\n",
       "      <td>0.866025</td>\n",
       "      <td>0</td>\n",
       "    </tr>\n",
       "    <tr>\n",
       "      <th>2</th>\n",
       "      <td>1954</td>\n",
       "      <td>8.660254e-01</td>\n",
       "      <td>0.500000</td>\n",
       "      <td>0</td>\n",
       "    </tr>\n",
       "  </tbody>\n",
       "</table>\n",
       "</div>"
      ],
      "text/plain": [
       "                  year     month_sin  month_cos  incident\n",
       "Year State Month                                         \n",
       "1953 AK    10     1953 -8.660254e-01   0.500000         0\n",
       "           11     1953 -5.000000e-01   0.866025         0\n",
       "           12     1953 -2.449294e-16   1.000000         0\n",
       "1954 AK    1      1954  5.000000e-01   0.866025         0\n",
       "           2      1954  8.660254e-01   0.500000         0"
      ]
     },
     "execution_count": 11,
     "metadata": {},
     "output_type": "execute_result"
    }
   ],
   "source": [
    "# Sum our columns of interest and add the result as a new 'incident' feature\n",
    "incidents=data_df['Severe Storm']+data_df['Hurricane']+data_df['Flood']+data_df['Coastal Storm']\n",
    "data_df['incident']=incidents\n",
    "\n",
    "# Clip the new incident feature at 1\n",
    "data_df['incident']=data_df['incident'].clip(upper=1)\n",
    "\n",
    "# Drop the old individual incident columns\n",
    "data_df.drop(['Coastal Storm','Fire','Flood','Hurricane','Severe Storm','Tornado','Typhoon','Winter weather','No incident'], axis=1, inplace=True)\n",
    "data_df.head()"
   ]
  },
  {
   "cell_type": "markdown",
   "metadata": {},
   "source": [
    "### 2.4. Batch data"
   ]
  },
  {
   "cell_type": "code",
   "execution_count": 12,
   "metadata": {},
   "outputs": [],
   "source": [
    "def generate_data(data_df: pd.DataFrame, input_window: int) -> Tuple[np.array, np.array]:\n",
    "    '''Takes dataframe, input window size, parses data into feature label pairs,\n",
    "    returns as tuple of numpy arrays'''\n",
    "\n",
    "    # Get list of years\n",
    "    years=data_df.index.get_level_values('Year').unique().tolist()\n",
    "\n",
    "    features=[]\n",
    "    labels=[]\n",
    "\n",
    "    # Loop on years\n",
    "    for year in years:\n",
    "\n",
    "        # Extract the data for this year\n",
    "        year_df=data_df.loc[(year)]\n",
    "        \n",
    "        # Get the list of states\n",
    "        states=year_df.index.get_level_values('State').unique().tolist()\n",
    "\n",
    "        # loop on the states\n",
    "        for state in states:\n",
    "\n",
    "            # Extract the data for this state\n",
    "            state_df=year_df.loc[(state)]\n",
    "\n",
    "            # Indexing variable for batch\n",
    "            input_start_index=0\n",
    "\n",
    "            # Loop on the state data\n",
    "            while input_start_index + input_window + 1 < len(state_df):\n",
    "\n",
    "                # Extract and collect the features and labels\n",
    "                feature_row=state_df.iloc[input_start_index:input_start_index + input_window, :]\n",
    "                label_row=state_df.iloc[input_start_index + input_window, -1]\n",
    "                features.append(feature_row.values.tolist())\n",
    "                labels.append(label_row)\n",
    "\n",
    "                # Update the index\n",
    "                input_start_index+=input_window + 1\n",
    "\n",
    "    # Convert to numpy arrays\n",
    "    features=np.array(features)\n",
    "    labels=np.array(labels)\n",
    "\n",
    "    # Squeeze out the extra dimension for window width of 1\n",
    "    if input_window == 1:\n",
    "        features=features.squeeze(axis=1)\n",
    "\n",
    "    return features, labels"
   ]
  },
  {
   "cell_type": "code",
   "execution_count": 13,
   "metadata": {},
   "outputs": [],
   "source": [
    "# Generate some feature, label pairs\n",
    "input_window=1\n",
    "features, labels=generate_data(data_df, input_window)"
   ]
  },
  {
   "cell_type": "markdown",
   "metadata": {},
   "source": [
    "### 2.5. Train-test split"
   ]
  },
  {
   "cell_type": "code",
   "execution_count": 14,
   "metadata": {},
   "outputs": [
    {
     "name": "stdout",
     "output_type": "stream",
     "text": [
      "Training features: (13628, 4)\n",
      "Training labels: (13628,), 5.2% positive class\n",
      "Testing features: (4543, 4)\n",
      "Testing labels: (4543,), 5.1% positive class\n"
     ]
    }
   ],
   "source": [
    "# Split them into training and validation\n",
    "training_features, testing_features, training_labels, testing_labels=train_test_split(features, labels)\n",
    "\n",
    "print(f'Training features: {training_features.shape}')\n",
    "print(f'Training labels: {training_labels.shape}, {(sum(training_labels)/len(training_labels))*100:.1f}% positive class')\n",
    "print(f'Testing features: {testing_features.shape}')\n",
    "print(f'Testing labels: {testing_labels.shape}, {(sum(testing_labels)/len(testing_labels))*100:.1f}% positive class')"
   ]
  },
  {
   "cell_type": "markdown",
   "metadata": {},
   "source": [
    "### 2.6. Standardize features"
   ]
  },
  {
   "cell_type": "code",
   "execution_count": 15,
   "metadata": {},
   "outputs": [],
   "source": [
    "# Scale the data\n",
    "scaler=StandardScaler()\n",
    "scaler.fit(training_features)\n",
    "training_features=scaler.transform(training_features)\n",
    "testing_features=scaler.transform(testing_features)"
   ]
  },
  {
   "cell_type": "markdown",
   "metadata": {},
   "source": [
    "## 3. Logistic regression model\n",
    "\n",
    "### 3.1. Fit the model on the training data"
   ]
  },
  {
   "cell_type": "code",
   "execution_count": 16,
   "metadata": {},
   "outputs": [],
   "source": [
    "model=LogisticRegression(class_weight='balanced', random_state=315).fit(training_features, training_labels)"
   ]
  },
  {
   "cell_type": "markdown",
   "metadata": {},
   "source": [
    "### 3.2. Evaluate the model on the test data"
   ]
  },
  {
   "cell_type": "code",
   "execution_count": 17,
   "metadata": {},
   "outputs": [
    {
     "data": {
      "image/png": "[encoded data removed]",
      "text/plain": [
       "<Figure size 640x480 with 2 Axes>"
      ]
     },
     "metadata": {},
     "output_type": "display_data"
    }
   ],
   "source": [
    "predictions=model.predict(testing_features)\n",
    "cm=confusion_matrix(testing_labels, predictions, normalize='all')\n",
    "cm_disp=ConfusionMatrixDisplay(confusion_matrix=cm, display_labels=['no incident', 'incident'])\n",
    "_=cm_disp.plot()"
   ]
  },
  {
   "cell_type": "markdown",
   "metadata": {},
   "source": [
    "Not great - we have about 40% false negatives, which means we are missing a lot of disasters! Let's try a better model."
   ]
  },
  {
   "cell_type": "markdown",
   "metadata": {},
   "source": [
    "## 4. LSTM model\n",
    "\n",
    "### 4.1. Data preparation"
   ]
  },
  {
   "cell_type": "code",
   "execution_count": 21,
   "metadata": {},
   "outputs": [
    {
     "name": "stdout",
     "output_type": "stream",
     "text": [
      "Training features: (5450, 3, 4)\n",
      "Training labels: (5450,), 6.1% positive class\n",
      "Testing features: (1817, 3, 4)\n",
      "Testing labels: (1817,), 5.7% positive class\n"
     ]
    }
   ],
   "source": [
    "# Generate feature, label pairs\n",
    "input_window=3\n",
    "features, labels=generate_data(data_df, input_window)\n",
    "\n",
    "# Split them into training and validation\n",
    "training_features, testing_features, training_labels, testing_labels=train_test_split(features, labels)\n",
    "\n",
    "print(f'Training features: {training_features.shape}')\n",
    "print(f'Training labels: {training_labels.shape}, {(sum(training_labels)/len(training_labels))*100:.1f}% positive class')\n",
    "print(f'Testing features: {testing_features.shape}')\n",
    "print(f'Testing labels: {testing_labels.shape}, {(sum(testing_labels)/len(testing_labels))*100:.1f}% positive class')\n"
   ]
  },
  {
   "cell_type": "code",
   "execution_count": 22,
   "metadata": {},
   "outputs": [
    {
     "name": "stdout",
     "output_type": "stream",
     "text": [
      "Training data has 333 positive examples and 5117 negative examples.\n",
      "Class weights: {0: np.float64(0.5325385968340824), 1: np.float64(8.183183183183184)}\n",
      "Initial bias: [-2.73218112]\n"
     ]
    }
   ],
   "source": [
    "pos_examples=training_labels.sum()\n",
    "neg_examples=len(training_labels) - pos_examples\n",
    "print(f'Training data has {pos_examples} positive examples and {neg_examples} negative examples.')\n",
    "\n",
    "# Class weighting scheme suggested in the Keras documentation\n",
    "# pos_class_weight=1 / training_labels.sum()\n",
    "# neg_class_weight=1/ (len(training_labels) - training_labels.sum())\n",
    "\n",
    "# Class weighting scheme suggested in a Tensorflow tutorial\n",
    "neg_class_weight = (1 / neg_examples) * (len(training_labels) / 2.0)\n",
    "pos_class_weight = (1 / pos_examples) * (len(training_labels) / 2.0)\n",
    "class_weight = {0: neg_class_weight, 1: pos_class_weight}\n",
    "print(f'Class weights: {class_weight}')\n",
    "\n",
    "initial_bias=np.log([pos_examples/neg_examples])\n",
    "print(f'Initial bias: {initial_bias}')"
   ]
  },
  {
   "cell_type": "code",
   "execution_count": 28,
   "metadata": {},
   "outputs": [],
   "source": [
    "from tensorflow import keras\n",
    "from tensorflow.keras import layers\n",
    "from tensorflow.keras.models import Sequential\n",
    "\n",
    "output_bias=keras.initializers.Constant(initial_bias)\n",
    "\n",
    "model=Sequential()\n",
    "model.add(layers.Input((input_window,4)))\n",
    "model.add(layers.LSTM(128))\n",
    "model.add(layers.Dropout(0.5))\n",
    "model.add(layers.Dense(100, activation='relu'))\n",
    "model.add(layers.Dense(10, activation='relu'))\n",
    "model.add(layers.Dense(1, activation='sigmoid', bias_initializer=output_bias))\n",
    "\n",
    "# Define the optimizer\n",
    "optimizer=keras.optimizers.Adam(learning_rate=0.001)\n",
    "\n",
    "# Compile the model, specifying the type of loss to use during training and any extra\n",
    "# metrics to evaluate\n",
    "model.compile(loss='binary_crossentropy', optimizer=optimizer, metrics=['true_positives', 'false_positives', 'false_negatives'])"
   ]
  },
  {
   "cell_type": "code",
   "execution_count": 29,
   "metadata": {},
   "outputs": [
    {
     "name": "stdout",
     "output_type": "stream",
     "text": [
      "Epoch 1/50\n"
     ]
    },
    {
     "name": "stdout",
     "output_type": "stream",
     "text": [
      "\u001b[1m43/43\u001b[0m \u001b[32m━━━━━━━━━━━━━━━━━━━━\u001b[0m\u001b[37m\u001b[0m \u001b[1m3s\u001b[0m 16ms/step - false_negatives: 114.4545 - false_positives: 1023.3864 - loss: 0.9070 - true_positives: 67.4545 - val_false_negatives: 103.0000 - val_false_positives: 0.0000e+00 - val_loss: 0.4313 - val_true_positives: 0.0000e+00\n",
      "Epoch 2/50\n",
      "\u001b[1m43/43\u001b[0m \u001b[32m━━━━━━━━━━━━━━━━━━━━\u001b[0m\u001b[37m\u001b[0m \u001b[1m1s\u001b[0m 9ms/step - false_negatives: 109.2273 - false_positives: 1249.3636 - loss: 0.7641 - true_positives: 73.5000 - val_false_negatives: 103.0000 - val_false_positives: 0.0000e+00 - val_loss: 0.4506 - val_true_positives: 0.0000e+00\n",
      "Epoch 3/50\n",
      "\u001b[1m43/43\u001b[0m \u001b[32m━━━━━━━━━━━━━━━━━━━━\u001b[0m\u001b[37m\u001b[0m \u001b[1m1s\u001b[0m 10ms/step - false_negatives: 113.2045 - false_positives: 1042.0909 - loss: 0.7293 - true_positives: 58.9545 - val_false_negatives: 103.0000 - val_false_positives: 0.0000e+00 - val_loss: 0.5707 - val_true_positives: 0.0000e+00\n",
      "Epoch 4/50\n",
      "\u001b[1m43/43\u001b[0m \u001b[32m━━━━━━━━━━━━━━━━━━━━\u001b[0m\u001b[37m\u001b[0m \u001b[1m1s\u001b[0m 8ms/step - false_negatives: 84.6136 - false_positives: 1546.2954 - loss: 0.7636 - true_positives: 100.2045 - val_false_negatives: 103.0000 - val_false_positives: 0.0000e+00 - val_loss: 0.4415 - val_true_positives: 0.0000e+00\n",
      "Epoch 5/50\n",
      "\u001b[1m43/43\u001b[0m \u001b[32m━━━━━━━━━━━━━━━━━━━━\u001b[0m\u001b[37m\u001b[0m \u001b[1m1s\u001b[0m 12ms/step - false_negatives: 103.6818 - false_positives: 1046.9546 - loss: 0.6916 - true_positives: 66.9773 - val_false_negatives: 103.0000 - val_false_positives: 0.0000e+00 - val_loss: 0.4650 - val_true_positives: 0.0000e+00\n",
      "Epoch 6/50\n",
      "\u001b[1m43/43\u001b[0m \u001b[32m━━━━━━━━━━━━━━━━━━━━\u001b[0m\u001b[37m\u001b[0m \u001b[1m0s\u001b[0m 8ms/step - false_negatives: 106.0000 - false_positives: 1228.5227 - loss: 0.7273 - true_positives: 73.4318 - val_false_negatives: 103.0000 - val_false_positives: 0.0000e+00 - val_loss: 0.4239 - val_true_positives: 0.0000e+00\n",
      "Epoch 7/50\n",
      "\u001b[1m43/43\u001b[0m \u001b[32m━━━━━━━━━━━━━━━━━━━━\u001b[0m\u001b[37m\u001b[0m \u001b[1m0s\u001b[0m 9ms/step - false_negatives: 89.6591 - false_positives: 1322.7500 - loss: 0.7060 - true_positives: 86.3182 - val_false_negatives: 103.0000 - val_false_positives: 0.0000e+00 - val_loss: 0.4336 - val_true_positives: 0.0000e+00\n",
      "Epoch 8/50\n",
      "\u001b[1m43/43\u001b[0m \u001b[32m━━━━━━━━━━━━━━━━━━━━\u001b[0m\u001b[37m\u001b[0m \u001b[1m0s\u001b[0m 11ms/step - false_negatives: 96.0909 - false_positives: 1254.5227 - loss: 0.7151 - true_positives: 82.2727 - val_false_negatives: 103.0000 - val_false_positives: 0.0000e+00 - val_loss: 0.4125 - val_true_positives: 0.0000e+00\n",
      "Epoch 9/50\n",
      "\u001b[1m43/43\u001b[0m \u001b[32m━━━━━━━━━━━━━━━━━━━━\u001b[0m\u001b[37m\u001b[0m \u001b[1m0s\u001b[0m 9ms/step - false_negatives: 91.0682 - false_positives: 1270.7046 - loss: 0.7107 - true_positives: 87.4318 - val_false_negatives: 103.0000 - val_false_positives: 0.0000e+00 - val_loss: 0.3941 - val_true_positives: 0.0000e+00\n",
      "Epoch 10/50\n",
      "\u001b[1m43/43\u001b[0m \u001b[32m━━━━━━━━━━━━━━━━━━━━\u001b[0m\u001b[37m\u001b[0m \u001b[1m0s\u001b[0m 8ms/step - false_negatives: 87.6818 - false_positives: 1297.1818 - loss: 0.7233 - true_positives: 93.5909 - val_false_negatives: 103.0000 - val_false_positives: 0.0000e+00 - val_loss: 0.4321 - val_true_positives: 0.0000e+00\n",
      "Epoch 11/50\n",
      "\u001b[1m43/43\u001b[0m \u001b[32m━━━━━━━━━━━━━━━━━━━━\u001b[0m\u001b[37m\u001b[0m \u001b[1m0s\u001b[0m 9ms/step - false_negatives: 87.5455 - false_positives: 1448.4546 - loss: 0.7251 - true_positives: 97.2045 - val_false_negatives: 103.0000 - val_false_positives: 0.0000e+00 - val_loss: 0.4019 - val_true_positives: 0.0000e+00\n",
      "Epoch 12/50\n",
      "\u001b[1m43/43\u001b[0m \u001b[32m━━━━━━━━━━━━━━━━━━━━\u001b[0m\u001b[37m\u001b[0m \u001b[1m0s\u001b[0m 8ms/step - false_negatives: 100.5455 - false_positives: 1112.5227 - loss: 0.6715 - true_positives: 66.7045 - val_false_negatives: 103.0000 - val_false_positives: 0.0000e+00 - val_loss: 0.3781 - val_true_positives: 0.0000e+00\n",
      "Epoch 13/50\n",
      "\u001b[1m43/43\u001b[0m \u001b[32m━━━━━━━━━━━━━━━━━━━━\u001b[0m\u001b[37m\u001b[0m \u001b[1m1s\u001b[0m 8ms/step - false_negatives: 96.3636 - false_positives: 1198.4318 - loss: 0.6913 - true_positives: 79.4773 - val_false_negatives: 103.0000 - val_false_positives: 0.0000e+00 - val_loss: 0.3595 - val_true_positives: 0.0000e+00\n",
      "Epoch 14/50\n",
      "\u001b[1m43/43\u001b[0m \u001b[32m━━━━━━━━━━━━━━━━━━━━\u001b[0m\u001b[37m\u001b[0m \u001b[1m1s\u001b[0m 10ms/step - false_negatives: 107.5909 - false_positives: 992.2045 - loss: 0.7162 - true_positives: 72.7955 - val_false_negatives: 103.0000 - val_false_positives: 0.0000e+00 - val_loss: 0.3234 - val_true_positives: 0.0000e+00\n",
      "Epoch 15/50\n",
      "\u001b[1m43/43\u001b[0m \u001b[32m━━━━━━━━━━━━━━━━━━━━\u001b[0m\u001b[37m\u001b[0m \u001b[1m0s\u001b[0m 9ms/step - false_negatives: 114.9091 - false_positives: 1001.5909 - loss: 0.7378 - true_positives: 66.1591 - val_false_negatives: 103.0000 - val_false_positives: 0.0000e+00 - val_loss: 0.3885 - val_true_positives: 0.0000e+00\n",
      "Epoch 16/50\n",
      "\u001b[1m43/43\u001b[0m \u001b[32m━━━━━━━━━━━━━━━━━━━━\u001b[0m\u001b[37m\u001b[0m \u001b[1m0s\u001b[0m 9ms/step - false_negatives: 107.1364 - false_positives: 1136.8636 - loss: 0.6995 - true_positives: 65.2955 - val_false_negatives: 103.0000 - val_false_positives: 0.0000e+00 - val_loss: 0.4446 - val_true_positives: 0.0000e+00\n",
      "Epoch 17/50\n",
      "\u001b[1m43/43\u001b[0m \u001b[32m━━━━━━━━━━━━━━━━━━━━\u001b[0m\u001b[37m\u001b[0m \u001b[1m1s\u001b[0m 8ms/step - false_negatives: 81.5682 - false_positives: 1378.2273 - loss: 0.6988 - true_positives: 96.7273 - val_false_negatives: 103.0000 - val_false_positives: 0.0000e+00 - val_loss: 0.4133 - val_true_positives: 0.0000e+00\n",
      "Epoch 18/50\n",
      "\u001b[1m43/43\u001b[0m \u001b[32m━━━━━━━━━━━━━━━━━━━━\u001b[0m\u001b[37m\u001b[0m \u001b[1m1s\u001b[0m 8ms/step - false_negatives: 97.5909 - false_positives: 1231.3636 - loss: 0.7091 - true_positives: 77.8864 - val_false_negatives: 103.0000 - val_false_positives: 0.0000e+00 - val_loss: 0.4269 - val_true_positives: 0.0000e+00\n",
      "Epoch 19/50\n",
      "\u001b[1m43/43\u001b[0m \u001b[32m━━━━━━━━━━━━━━━━━━━━\u001b[0m\u001b[37m\u001b[0m \u001b[1m0s\u001b[0m 10ms/step - false_negatives: 80.6364 - false_positives: 1502.0227 - loss: 0.7033 - true_positives: 91.5682 - val_false_negatives: 103.0000 - val_false_positives: 0.0000e+00 - val_loss: 0.4242 - val_true_positives: 0.0000e+00\n",
      "Epoch 20/50\n",
      "\u001b[1m43/43\u001b[0m \u001b[32m━━━━━━━━━━━━━━━━━━━━\u001b[0m\u001b[37m\u001b[0m \u001b[1m0s\u001b[0m 8ms/step - false_negatives: 95.5000 - false_positives: 1381.8182 - loss: 0.7134 - true_positives: 85.8182 - val_false_negatives: 103.0000 - val_false_positives: 0.0000e+00 - val_loss: 0.3606 - val_true_positives: 0.0000e+00\n",
      "Epoch 21/50\n",
      "\u001b[1m43/43\u001b[0m \u001b[32m━━━━━━━━━━━━━━━━━━━━\u001b[0m\u001b[37m\u001b[0m \u001b[1m0s\u001b[0m 8ms/step - false_negatives: 92.3864 - false_positives: 1192.5227 - loss: 0.7048 - true_positives: 87.5455 - val_false_negatives: 103.0000 - val_false_positives: 0.0000e+00 - val_loss: 0.3439 - val_true_positives: 0.0000e+00\n",
      "Epoch 22/50\n",
      "\u001b[1m43/43\u001b[0m \u001b[32m━━━━━━━━━━━━━━━━━━━━\u001b[0m\u001b[37m\u001b[0m \u001b[1m0s\u001b[0m 9ms/step - false_negatives: 106.7273 - false_positives: 960.6818 - loss: 0.6786 - true_positives: 57.3864 - val_false_negatives: 103.0000 - val_false_positives: 0.0000e+00 - val_loss: 0.4355 - val_true_positives: 0.0000e+00\n",
      "Epoch 23/50\n",
      "\u001b[1m43/43\u001b[0m \u001b[32m━━━━━━━━━━━━━━━━━━━━\u001b[0m\u001b[37m\u001b[0m \u001b[1m1s\u001b[0m 8ms/step - false_negatives: 53.3409 - false_positives: 1749.6364 - loss: 0.7275 - true_positives: 135.9545 - val_false_negatives: 103.0000 - val_false_positives: 0.0000e+00 - val_loss: 0.3614 - val_true_positives: 0.0000e+00\n",
      "Epoch 24/50\n",
      "\u001b[1m43/43\u001b[0m \u001b[32m━━━━━━━━━━━━━━━━━━━━\u001b[0m\u001b[37m\u001b[0m \u001b[1m0s\u001b[0m 8ms/step - false_negatives: 104.4545 - false_positives: 1057.5454 - loss: 0.7063 - true_positives: 74.2500 - val_false_negatives: 103.0000 - val_false_positives: 0.0000e+00 - val_loss: 0.3565 - val_true_positives: 0.0000e+00\n",
      "Epoch 25/50\n",
      "\u001b[1m43/43\u001b[0m \u001b[32m━━━━━━━━━━━━━━━━━━━━\u001b[0m\u001b[37m\u001b[0m \u001b[1m1s\u001b[0m 9ms/step - false_negatives: 120.4773 - false_positives: 761.2045 - loss: 0.6957 - true_positives: 52.4773 - val_false_negatives: 103.0000 - val_false_positives: 0.0000e+00 - val_loss: 0.3960 - val_true_positives: 0.0000e+00\n",
      "Epoch 26/50\n",
      "\u001b[1m43/43\u001b[0m \u001b[32m━━━━━━━━━━━━━━━━━━━━\u001b[0m\u001b[37m\u001b[0m \u001b[1m0s\u001b[0m 10ms/step - false_negatives: 103.7273 - false_positives: 1164.2273 - loss: 0.7039 - true_positives: 74.6136 - val_false_negatives: 103.0000 - val_false_positives: 0.0000e+00 - val_loss: 0.3768 - val_true_positives: 0.0000e+00\n",
      "Epoch 27/50\n",
      "\u001b[1m43/43\u001b[0m \u001b[32m━━━━━━━━━━━━━━━━━━━━\u001b[0m\u001b[37m\u001b[0m \u001b[1m0s\u001b[0m 8ms/step - false_negatives: 94.2955 - false_positives: 1220.8864 - loss: 0.7237 - true_positives: 86.8182 - val_false_negatives: 103.0000 - val_false_positives: 0.0000e+00 - val_loss: 0.3620 - val_true_positives: 0.0000e+00\n",
      "Epoch 28/50\n",
      "\u001b[1m43/43\u001b[0m \u001b[32m━━━━━━━━━━━━━━━━━━━━\u001b[0m\u001b[37m\u001b[0m \u001b[1m0s\u001b[0m 8ms/step - false_negatives: 108.8864 - false_positives: 1210.0909 - loss: 0.7147 - true_positives: 71.4091 - val_false_negatives: 103.0000 - val_false_positives: 0.0000e+00 - val_loss: 0.3795 - val_true_positives: 0.0000e+00\n",
      "Epoch 29/50\n",
      "\u001b[1m43/43\u001b[0m \u001b[32m━━━━━━━━━━━━━━━━━━━━\u001b[0m\u001b[37m\u001b[0m \u001b[1m1s\u001b[0m 8ms/step - false_negatives: 106.8409 - false_positives: 1106.4773 - loss: 0.7016 - true_positives: 67.0000 - val_false_negatives: 103.0000 - val_false_positives: 0.0000e+00 - val_loss: 0.3991 - val_true_positives: 0.0000e+00\n",
      "Epoch 30/50\n",
      "\u001b[1m43/43\u001b[0m \u001b[32m━━━━━━━━━━━━━━━━━━━━\u001b[0m\u001b[37m\u001b[0m \u001b[1m0s\u001b[0m 9ms/step - false_negatives: 97.9318 - false_positives: 1142.1818 - loss: 0.6730 - true_positives: 67.0909 - val_false_negatives: 103.0000 - val_false_positives: 0.0000e+00 - val_loss: 0.4209 - val_true_positives: 0.0000e+00\n",
      "Epoch 31/50\n",
      "\u001b[1m43/43\u001b[0m \u001b[32m━━━━━━━━━━━━━━━━━━━━\u001b[0m\u001b[37m\u001b[0m \u001b[1m0s\u001b[0m 9ms/step - false_negatives: 77.8182 - false_positives: 1525.2046 - loss: 0.7112 - true_positives: 101.0000 - val_false_negatives: 103.0000 - val_false_positives: 0.0000e+00 - val_loss: 0.3884 - val_true_positives: 0.0000e+00\n",
      "Epoch 32/50\n",
      "\u001b[1m43/43\u001b[0m \u001b[32m━━━━━━━━━━━━━━━━━━━━\u001b[0m\u001b[37m\u001b[0m \u001b[1m1s\u001b[0m 9ms/step - false_negatives: 105.2727 - false_positives: 1124.8182 - loss: 0.7170 - true_positives: 72.3182 - val_false_negatives: 103.0000 - val_false_positives: 0.0000e+00 - val_loss: 0.3917 - val_true_positives: 0.0000e+00\n",
      "Epoch 33/50\n",
      "\u001b[1m43/43\u001b[0m \u001b[32m━━━━━━━━━━━━━━━━━━━━\u001b[0m\u001b[37m\u001b[0m \u001b[1m1s\u001b[0m 8ms/step - false_negatives: 82.6591 - false_positives: 1283.2500 - loss: 0.6923 - true_positives: 92.7273 - val_false_negatives: 103.0000 - val_false_positives: 0.0000e+00 - val_loss: 0.3767 - val_true_positives: 0.0000e+00\n",
      "Epoch 34/50\n",
      "\u001b[1m43/43\u001b[0m \u001b[32m━━━━━━━━━━━━━━━━━━━━\u001b[0m\u001b[37m\u001b[0m \u001b[1m1s\u001b[0m 9ms/step - false_negatives: 88.2273 - false_positives: 1469.1818 - loss: 0.7192 - true_positives: 91.1364 - val_false_negatives: 103.0000 - val_false_positives: 0.0000e+00 - val_loss: 0.3942 - val_true_positives: 0.0000e+00\n",
      "Epoch 35/50\n",
      "\u001b[1m43/43\u001b[0m \u001b[32m━━━━━━━━━━━━━━━━━━━━\u001b[0m\u001b[37m\u001b[0m \u001b[1m1s\u001b[0m 8ms/step - false_negatives: 87.6136 - false_positives: 1322.7046 - loss: 0.6930 - true_positives: 90.0909 - val_false_negatives: 103.0000 - val_false_positives: 0.0000e+00 - val_loss: 0.3524 - val_true_positives: 0.0000e+00\n",
      "Epoch 36/50\n",
      "\u001b[1m43/43\u001b[0m \u001b[32m━━━━━━━━━━━━━━━━━━━━\u001b[0m\u001b[37m\u001b[0m \u001b[1m0s\u001b[0m 10ms/step - false_negatives: 122.2727 - false_positives: 779.3636 - loss: 0.6906 - true_positives: 48.4773 - val_false_negatives: 103.0000 - val_false_positives: 0.0000e+00 - val_loss: 0.4189 - val_true_positives: 0.0000e+00\n",
      "Epoch 37/50\n",
      "\u001b[1m43/43\u001b[0m \u001b[32m━━━━━━━━━━━━━━━━━━━━\u001b[0m\u001b[37m\u001b[0m \u001b[1m1s\u001b[0m 9ms/step - false_negatives: 99.4091 - false_positives: 1180.0682 - loss: 0.7006 - true_positives: 77.2045 - val_false_negatives: 103.0000 - val_false_positives: 0.0000e+00 - val_loss: 0.3975 - val_true_positives: 0.0000e+00\n",
      "Epoch 38/50\n",
      "\u001b[1m43/43\u001b[0m \u001b[32m━━━━━━━━━━━━━━━━━━━━\u001b[0m\u001b[37m\u001b[0m \u001b[1m1s\u001b[0m 9ms/step - false_negatives: 100.2955 - false_positives: 1183.2500 - loss: 0.7244 - true_positives: 81.7955 - val_false_negatives: 103.0000 - val_false_positives: 0.0000e+00 - val_loss: 0.4097 - val_true_positives: 0.0000e+00\n",
      "Epoch 39/50\n",
      "\u001b[1m43/43\u001b[0m \u001b[32m━━━━━━━━━━━━━━━━━━━━\u001b[0m\u001b[37m\u001b[0m \u001b[1m1s\u001b[0m 12ms/step - false_negatives: 112.4773 - false_positives: 1093.2954 - loss: 0.6783 - true_positives: 57.6364 - val_false_negatives: 103.0000 - val_false_positives: 0.0000e+00 - val_loss: 0.3769 - val_true_positives: 0.0000e+00\n",
      "Epoch 40/50\n",
      "\u001b[1m43/43\u001b[0m \u001b[32m━━━━━━━━━━━━━━━━━━━━\u001b[0m\u001b[37m\u001b[0m \u001b[1m0s\u001b[0m 9ms/step - false_negatives: 71.5227 - false_positives: 1472.5454 - loss: 0.7038 - true_positives: 105.4091 - val_false_negatives: 103.0000 - val_false_positives: 0.0000e+00 - val_loss: 0.3909 - val_true_positives: 0.0000e+00\n",
      "Epoch 41/50\n",
      "\u001b[1m43/43\u001b[0m \u001b[32m━━━━━━━━━━━━━━━━━━━━\u001b[0m\u001b[37m\u001b[0m \u001b[1m1s\u001b[0m 10ms/step - false_negatives: 69.1364 - false_positives: 1484.1364 - loss: 0.7162 - true_positives: 109.9091 - val_false_negatives: 103.0000 - val_false_positives: 0.0000e+00 - val_loss: 0.4143 - val_true_positives: 0.0000e+00\n",
      "Epoch 42/50\n",
      "\u001b[1m43/43\u001b[0m \u001b[32m━━━━━━━━━━━━━━━━━━━━\u001b[0m\u001b[37m\u001b[0m \u001b[1m0s\u001b[0m 9ms/step - false_negatives: 89.4545 - false_positives: 1393.4546 - loss: 0.7139 - true_positives: 88.2727 - val_false_negatives: 103.0000 - val_false_positives: 0.0000e+00 - val_loss: 0.4067 - val_true_positives: 0.0000e+00\n",
      "Epoch 43/50\n",
      "\u001b[1m43/43\u001b[0m \u001b[32m━━━━━━━━━━━━━━━━━━━━\u001b[0m\u001b[37m\u001b[0m \u001b[1m0s\u001b[0m 9ms/step - false_negatives: 103.4091 - false_positives: 1229.3636 - loss: 0.7012 - true_positives: 76.3182 - val_false_negatives: 103.0000 - val_false_positives: 0.0000e+00 - val_loss: 0.3802 - val_true_positives: 0.0000e+00\n",
      "Epoch 44/50\n",
      "\u001b[1m43/43\u001b[0m \u001b[32m━━━━━━━━━━━━━━━━━━━━\u001b[0m\u001b[37m\u001b[0m \u001b[1m1s\u001b[0m 8ms/step - false_negatives: 89.7500 - false_positives: 1342.7273 - loss: 0.7331 - true_positives: 93.8636 - val_false_negatives: 103.0000 - val_false_positives: 0.0000e+00 - val_loss: 0.3530 - val_true_positives: 0.0000e+00\n",
      "Epoch 45/50\n",
      "\u001b[1m43/43\u001b[0m \u001b[32m━━━━━━━━━━━━━━━━━━━━\u001b[0m\u001b[37m\u001b[0m \u001b[1m1s\u001b[0m 8ms/step - false_negatives: 102.6818 - false_positives: 1253.4318 - loss: 0.7131 - true_positives: 70.6591 - val_false_negatives: 103.0000 - val_false_positives: 0.0000e+00 - val_loss: 0.4162 - val_true_positives: 0.0000e+00\n",
      "Epoch 46/50\n",
      "\u001b[1m43/43\u001b[0m \u001b[32m━━━━━━━━━━━━━━━━━━━━\u001b[0m\u001b[37m\u001b[0m \u001b[1m1s\u001b[0m 10ms/step - false_negatives: 90.5909 - false_positives: 1286.0909 - loss: 0.6940 - true_positives: 85.9773 - val_false_negatives: 103.0000 - val_false_positives: 0.0000e+00 - val_loss: 0.3751 - val_true_positives: 0.0000e+00\n",
      "Epoch 47/50\n",
      "\u001b[1m43/43\u001b[0m \u001b[32m━━━━━━━━━━━━━━━━━━━━\u001b[0m\u001b[37m\u001b[0m \u001b[1m1s\u001b[0m 9ms/step - false_negatives: 94.7727 - false_positives: 1150.4091 - loss: 0.6936 - true_positives: 82.2045 - val_false_negatives: 103.0000 - val_false_positives: 0.0000e+00 - val_loss: 0.3547 - val_true_positives: 0.0000e+00\n",
      "Epoch 48/50\n",
      "\u001b[1m43/43\u001b[0m \u001b[32m━━━━━━━━━━━━━━━━━━━━\u001b[0m\u001b[37m\u001b[0m \u001b[1m0s\u001b[0m 8ms/step - false_negatives: 98.9318 - false_positives: 1260.3182 - loss: 0.7118 - true_positives: 78.2955 - val_false_negatives: 103.0000 - val_false_positives: 0.0000e+00 - val_loss: 0.4034 - val_true_positives: 0.0000e+00\n",
      "Epoch 49/50\n",
      "\u001b[1m43/43\u001b[0m \u001b[32m━━━━━━━━━━━━━━━━━━━━\u001b[0m\u001b[37m\u001b[0m \u001b[1m1s\u001b[0m 8ms/step - false_negatives: 80.4545 - false_positives: 1439.3636 - loss: 0.6986 - true_positives: 96.2273 - val_false_negatives: 103.0000 - val_false_positives: 0.0000e+00 - val_loss: 0.3892 - val_true_positives: 0.0000e+00\n",
      "Epoch 50/50\n",
      "\u001b[1m43/43\u001b[0m \u001b[32m━━━━━━━━━━━━━━━━━━━━\u001b[0m\u001b[37m\u001b[0m \u001b[1m0s\u001b[0m 9ms/step - false_negatives: 111.7273 - false_positives: 952.5227 - loss: 0.7006 - true_positives: 64.5682 - val_false_negatives: 103.0000 - val_false_positives: 0.0000e+00 - val_loss: 0.3997 - val_true_positives: 0.0000e+00\n"
     ]
    }
   ],
   "source": [
    "result=model.fit(\n",
    "    training_features,\n",
    "    training_labels,\n",
    "    validation_data=(testing_features, testing_labels),\n",
    "    epochs=50,\n",
    "    batch_size=128,\n",
    "    verbose=1,\n",
    "    class_weight=class_weight\n",
    ")"
   ]
  },
  {
   "cell_type": "code",
   "execution_count": 30,
   "metadata": {},
   "outputs": [],
   "source": [
    "# Define a re-useable helper function that plots the results of a single training run\n",
    "def plot_single_training_run(training_results):\n",
    "    '''Takes a training results dictionary, plots it.'''\n",
    "\n",
    "    # Set-up a 2x2 figure for metrics\n",
    "    fig, axs=plt.subplots(2,2, figsize=(8,8))\n",
    "    axs=axs.flatten()\n",
    "\n",
    "    # Add the main title\n",
    "    fig.suptitle('CNN training curves', size='large')\n",
    "\n",
    "    # Plot training and validation binary cross-entropy\n",
    "    axs[0].set_title('Binary cross-entropy')\n",
    "    axs[0].plot(training_results.history['loss'], label='Training')\n",
    "    axs[0].plot(training_results.history['val_loss'], label='Validation')\n",
    "    axs[0].set_xlabel('Epoch')\n",
    "    axs[0].set_ylabel('Binary cross-entropy')\n",
    "    axs[0].legend(loc='upper left')\n",
    "\n",
    "    # Plot training and validation true positives\n",
    "    axs[1].set_title('True positives')\n",
    "    axs[1].plot(training_results.history['true_positives'])\n",
    "    axs[1].plot(training_results.history['val_true_positives'])\n",
    "    axs[1].set_xlabel('Epoch')\n",
    "    axs[1].set_ylabel('True positives')\n",
    "\n",
    "    # Plot training and validation false negatives\n",
    "    axs[2].set_title('False negatives')\n",
    "    axs[2].plot(training_results.history['false_negatives'])\n",
    "    axs[2].plot(training_results.history['val_false_negatives'])\n",
    "    axs[2].set_xlabel('Epoch')\n",
    "    axs[2].set_ylabel('False negatives')\n",
    "\n",
    "    # Plot training and validation false positives\n",
    "    axs[3].set_title('False positives')\n",
    "    axs[3].plot(training_results.history['false_positives'])\n",
    "    axs[3].plot(training_results.history['val_false_positives'])\n",
    "    axs[3].set_xlabel('Epoch')\n",
    "    axs[3].set_ylabel('False positives')\n",
    "\n",
    "    # Show the plot\n",
    "    plt.tight_layout()\n",
    "\n",
    "    return plt"
   ]
  },
  {
   "cell_type": "code",
   "execution_count": 31,
   "metadata": {},
   "outputs": [
    {
     "data": {
      "image/png": "[encoded data removed]",
      "text/plain": [
       "<Figure size 800x800 with 4 Axes>"
      ]
     },
     "metadata": {},
     "output_type": "display_data"
    }
   ],
   "source": [
    "plot_single_training_run(result).show()"
   ]
  },
  {
   "cell_type": "code",
   "execution_count": 32,
   "metadata": {},
   "outputs": [
    {
     "name": "stdout",
     "output_type": "stream",
     "text": [
      "\u001b[1m 1/57\u001b[0m \u001b[37m━━━━━━━━━━━━━━━━━━━━\u001b[0m \u001b[1m7s\u001b[0m 139ms/step"
     ]
    },
    {
     "name": "stdout",
     "output_type": "stream",
     "text": [
      "\u001b[1m57/57\u001b[0m \u001b[32m━━━━━━━━━━━━━━━━━━━━\u001b[0m\u001b[37m\u001b[0m \u001b[1m0s\u001b[0m 3ms/step\n"
     ]
    },
    {
     "data": {
      "image/png": "[encoded data removed]",
      "text/plain": [
       "<Figure size 640x480 with 2 Axes>"
      ]
     },
     "metadata": {},
     "output_type": "display_data"
    }
   ],
   "source": [
    "predictions=model.predict(testing_features)\n",
    "\n",
    "threshold=0.5\n",
    "cm=confusion_matrix(testing_labels, predictions > threshold, normalize='all')\n",
    "cm_disp=ConfusionMatrixDisplay(confusion_matrix=cm, display_labels=['no incident', 'incident'])\n",
    "_=cm_disp.plot()"
   ]
  },
  {
   "cell_type": "code",
   "execution_count": null,
   "metadata": {},
   "outputs": [],
   "source": []
  },
  {
   "cell_type": "code",
   "execution_count": null,
   "metadata": {},
   "outputs": [],
   "source": []
  }
 ],
 "metadata": {
  "kernelspec": {
   "display_name": "Python 3",
   "language": "python",
   "name": "python3"
  },
  "language_info": {
   "codemirror_mode": {
    "name": "ipython",
    "version": 3
   },
   "file_extension": ".py",
   "mimetype": "text/x-python",
   "name": "python",
   "nbconvert_exporter": "python",
   "pygments_lexer": "ipython3",
   "version": "3.10.12"
  }
 },
 "nbformat": 4,
 "nbformat_minor": 2
}
