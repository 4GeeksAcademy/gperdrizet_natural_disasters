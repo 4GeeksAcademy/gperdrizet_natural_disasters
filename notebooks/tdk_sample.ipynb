{
 "cells": [
  {
   "cell_type": "code",
   "execution_count": 1,
   "metadata": {},
   "outputs": [
    {
     "name": "stderr",
     "output_type": "stream",
     "text": [
      "2025-01-23 21:00:02.876255: I external/local_xla/xla/tsl/cuda/cudart_stub.cc:32] Could not find cuda drivers on your machine, GPU will not be used.\n",
      "2025-01-23 21:00:07.060631: I external/local_xla/xla/tsl/cuda/cudart_stub.cc:32] Could not find cuda drivers on your machine, GPU will not be used.\n",
      "2025-01-23 21:00:09.526529: E external/local_xla/xla/stream_executor/cuda/cuda_fft.cc:477] Unable to register cuFFT factory: Attempting to register factory for plugin cuFFT when one has already been registered\n",
      "WARNING: All log messages before absl::InitializeLog() is called are written to STDERR\n",
      "E0000 00:00:1737666012.447296    1060 cuda_dnn.cc:8310] Unable to register cuDNN factory: Attempting to register factory for plugin cuDNN when one has already been registered\n",
      "E0000 00:00:1737666013.174810    1060 cuda_blas.cc:1418] Unable to register cuBLAS factory: Attempting to register factory for plugin cuBLAS when one has already been registered\n",
      "2025-01-23 21:00:18.851694: I tensorflow/core/platform/cpu_feature_guard.cc:210] This TensorFlow binary is optimized to use available CPU instructions in performance-critical operations.\n",
      "To enable the following instructions: AVX2 FMA, in other operations, rebuild TensorFlow with the appropriate compiler flags.\n"
     ]
    }
   ],
   "source": [
    "# Standard library imports\n",
    "import os\n",
    "import logging\n",
    "from typing import Tuple\n",
    "\n",
    "# PyPI imports\n",
    "import numpy as np\n",
    "import pandas as pd\n",
    "import matplotlib.pyplot as plt\n",
    "import seaborn as sns\n",
    "from sklearn.model_selection import train_test_split\n",
    "from sklearn.metrics import confusion_matrix, ConfusionMatrixDisplay, precision_score, recall_score, roc_curve, precision_recall_curve\n",
    "from tensorflow import random\n",
    "from tensorflow import keras\n",
    "from tensorflow.keras import layers\n",
    "from tensorflow.keras.models import Sequential\n",
    "\n",
    "# Random\n",
    "random_state=315\n",
    "\n",
    "# Fix Tensorflow's global random seed\n",
    "random.set_seed(random_state)\n",
    "\n",
    "# Suppress warning and info messages from tensorflow\n",
    "os.environ['TF_CPP_MIN_LOG_LEVEL'] = '3'  # FATAL\n",
    "logging.getLogger('tensorflow').setLevel(logging.FATAL)\n",
    "\n",
    "# Input data\n",
    "data_file='../data/resampled_disaster_data_all.parquet'"
   ]
  },
  {
   "cell_type": "code",
   "execution_count": 2,
   "metadata": {},
   "outputs": [
    {
     "name": "stdout",
     "output_type": "stream",
     "text": [
      "Have 1986(4.7%) disaster months\n",
      "\n",
      "<class 'pandas.core.frame.DataFrame'>\n",
      "MultiIndex: 41899 entries, (np.int64(1955), 'AK', np.int64(1)) to (np.int64(2019), 'WY', np.int64(12))\n",
      "Data columns (total 62 columns):\n",
      " #   Column            Non-Null Count  Dtype  \n",
      "---  ------            --------------  -----  \n",
      " 0   incidents         41899 non-null  float64\n",
      " 1   month_sin         41899 non-null  float64\n",
      " 2   month_cos         41899 non-null  float64\n",
      " 3   AL                41899 non-null  int64  \n",
      " 4   AR                41899 non-null  int64  \n",
      " 5   AS                41899 non-null  int64  \n",
      " 6   AZ                41899 non-null  int64  \n",
      " 7   CA                41899 non-null  int64  \n",
      " 8   CO                41899 non-null  int64  \n",
      " 9   CT                41899 non-null  int64  \n",
      " 10  DC                41899 non-null  int64  \n",
      " 11  DE                41899 non-null  int64  \n",
      " 12  FL                41899 non-null  int64  \n",
      " 13  FM                41899 non-null  int64  \n",
      " 14  GA                41899 non-null  int64  \n",
      " 15  GU                41899 non-null  int64  \n",
      " 16  HI                41899 non-null  int64  \n",
      " 17  IA                41899 non-null  int64  \n",
      " 18  ID                41899 non-null  int64  \n",
      " 19  IL                41899 non-null  int64  \n",
      " 20  IN                41899 non-null  int64  \n",
      " 21  KS                41899 non-null  int64  \n",
      " 22  KY                41899 non-null  int64  \n",
      " 23  LA                41899 non-null  int64  \n",
      " 24  MA                41899 non-null  int64  \n",
      " 25  MD                41899 non-null  int64  \n",
      " 26  ME                41899 non-null  int64  \n",
      " 27  MH                41899 non-null  int64  \n",
      " 28  MI                41899 non-null  int64  \n",
      " 29  MN                41899 non-null  int64  \n",
      " 30  MO                41899 non-null  int64  \n",
      " 31  MP                41899 non-null  int64  \n",
      " 32  MS                41899 non-null  int64  \n",
      " 33  MT                41899 non-null  int64  \n",
      " 34  NC                41899 non-null  int64  \n",
      " 35  ND                41899 non-null  int64  \n",
      " 36  NE                41899 non-null  int64  \n",
      " 37  NH                41899 non-null  int64  \n",
      " 38  NJ                41899 non-null  int64  \n",
      " 39  NM                41899 non-null  int64  \n",
      " 40  NV                41899 non-null  int64  \n",
      " 41  NY                41899 non-null  int64  \n",
      " 42  OH                41899 non-null  int64  \n",
      " 43  OK                41899 non-null  int64  \n",
      " 44  OR                41899 non-null  int64  \n",
      " 45  PA                41899 non-null  int64  \n",
      " 46  PR                41899 non-null  int64  \n",
      " 47  PW                41899 non-null  int64  \n",
      " 48  RI                41899 non-null  int64  \n",
      " 49  SC                41899 non-null  int64  \n",
      " 50  SD                41899 non-null  int64  \n",
      " 51  TN                41899 non-null  int64  \n",
      " 52  TX                41899 non-null  int64  \n",
      " 53  UT                41899 non-null  int64  \n",
      " 54  VA                41899 non-null  int64  \n",
      " 55  VI                41899 non-null  int64  \n",
      " 56  VT                41899 non-null  int64  \n",
      " 57  WA                41899 non-null  int64  \n",
      " 58  WI                41899 non-null  int64  \n",
      " 59  WV                41899 non-null  int64  \n",
      " 60  WY                41899 non-null  int64  \n",
      " 61  incidents_binary  41899 non-null  int64  \n",
      "dtypes: float64(3), int64(59)\n",
      "memory usage: 19.9+ MB\n"
     ]
    }
   ],
   "source": [
    "data_df=pd.read_parquet(data_file)\n",
    "\n",
    "total_disaster_months=len(data_df[data_df['incidents_binary'] != 0])\n",
    "percent_disaster_months=(total_disaster_months/len(data_df)) * 100\n",
    "print(f'Have {total_disaster_months}({percent_disaster_months:.1f}%) disaster months\\n')\n",
    "\n",
    "data_df.info()"
   ]
  },
  {
   "cell_type": "code",
   "execution_count": 3,
   "metadata": {},
   "outputs": [
    {
     "data": {
      "image/png": "[encoded data removed]",
      "text/plain": [
       "<Figure size 640x480 with 1 Axes>"
      ]
     },
     "metadata": {},
     "output_type": "display_data"
    }
   ],
   "source": [
    "# Draw a quick plot to check the distribution of disaster counts\n",
    "plt.title('Non-zero incident count distribution')\n",
    "plt.hist(data_df['incidents'][data_df['incidents'] != 0], bins=30, color='black')\n",
    "plt.xlabel('log10(Incident count)')\n",
    "plt.ylabel('Count')\n",
    "plt.show()"
   ]
  }
 ],
 "metadata": {
  "kernelspec": {
   "display_name": "Python 3",
   "language": "python",
   "name": "python3"
  },
  "language_info": {
   "codemirror_mode": {
    "name": "ipython",
    "version": 3
   },
   "file_extension": ".py",
   "mimetype": "text/x-python",
   "name": "python",
   "nbconvert_exporter": "python",
   "pygments_lexer": "ipython3",
   "version": "3.10.12"
  }
 },
 "nbformat": 4,
 "nbformat_minor": 2
}
